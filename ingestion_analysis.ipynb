{
 "cells": [
  {
   "cell_type": "markdown",
   "metadata": {
    "application/vnd.databricks.v1+cell": {
     "cellMetadata": {},
     "inputWidgets": {},
     "nuid": "1cfca841-3930-497b-af48-6e2c65c5c224",
     "showTitle": false,
     "title": ""
    }
   },
   "source": [
    "# Rede Mateus"
   ]
  },
  {
   "cell_type": "markdown",
   "metadata": {
    "application/vnd.databricks.v1+cell": {
     "cellMetadata": {},
     "inputWidgets": {},
     "nuid": "8cdd0c01-8bbd-4bb6-a641-018440d879cf",
     "showTitle": false,
     "title": ""
    }
   },
   "source": [
    "## Sellout"
   ]
  },
  {
   "cell_type": "markdown",
   "metadata": {
    "application/vnd.databricks.v1+cell": {
     "cellMetadata": {},
     "inputWidgets": {},
     "nuid": "ccc40767-1f0b-4ec1-b18b-ffeeef313d50",
     "showTitle": false,
     "title": ""
    }
   },
   "source": [
    "### Bronze"
   ]
  },
  {
   "cell_type": "code",
   "execution_count": 0,
   "metadata": {
    "application/vnd.databricks.v1+cell": {
     "cellMetadata": {
      "byteLimit": 2048000,
      "implicitDf": true,
      "rowLimit": 10000
     },
     "inputWidgets": {},
     "nuid": "9c8444d0-9a66-4236-b6bd-353f87b2fba0",
     "showTitle": false,
     "title": ""
    }
   },
   "outputs": [],
   "source": [
    "%sql\n",
    "SELECT count(*) row_br_saz_prod, year, month, day\n",
    "FROM brewdat_uc_saz_prod.brz_saz_sales_rede_mateus.br_sellout\n",
    "GROUP BY year, month, day\n",
    "ORDER BY year, month, day"
   ]
  },
  {
   "cell_type": "markdown",
   "metadata": {
    "application/vnd.databricks.v1+cell": {
     "cellMetadata": {},
     "inputWidgets": {},
     "nuid": "d5326d34-7fc3-40b0-af73-b0939ad95de2",
     "showTitle": false,
     "title": ""
    }
   },
   "source": [
    "### Silver"
   ]
  },
  {
   "cell_type": "markdown",
   "metadata": {
    "application/vnd.databricks.v1+cell": {
     "cellMetadata": {},
     "inputWidgets": {},
     "nuid": "c777b89d-881f-4544-a424-65a5c1d6f8b8",
     "showTitle": false,
     "title": ""
    }
   },
   "source": []
  },
  {
   "cell_type": "code",
   "execution_count": 0,
   "metadata": {
    "application/vnd.databricks.v1+cell": {
     "cellMetadata": {
      "byteLimit": 2048000,
      "implicitDf": true,
      "rowLimit": 10000
     },
     "inputWidgets": {},
     "nuid": "bebfe540-5a71-43b4-9acb-e17ddf252360",
     "showTitle": false,
     "title": ""
    }
   },
   "outputs": [],
   "source": [
    "%sql\n",
    "SELECT count(*) row_br_saz_prod, year, month, day\n",
    "FROM brewdat_uc_saz_prod.slv_saz_sales_rede_mateus.br_sellout\n",
    "GROUP BY year, month, day\n",
    "ORDER BY year, month, day"
   ]
  },
  {
   "cell_type": "code",
   "execution_count": 0,
   "metadata": {
    "application/vnd.databricks.v1+cell": {
     "cellMetadata": {
      "byteLimit": 2048000,
      "implicitDf": true,
      "rowLimit": 10000
     },
     "inputWidgets": {},
     "nuid": "aff4ceb1-448a-420f-a167-782de030e1f1",
     "showTitle": false,
     "title": ""
    }
   },
   "outputs": [],
   "source": [
    "%sql\n",
    "SELECT count(*) row_br_saz_prod, data\n",
    "FROM brewdat_uc_saz_prod.slv_saz_sales_rede_mateus.br_sellout\n",
    "GROUP BY data\n",
    "ORDER BY data"
   ]
  },
  {
   "cell_type": "code",
   "execution_count": 0,
   "metadata": {
    "application/vnd.databricks.v1+cell": {
     "cellMetadata": {
      "byteLimit": 2048000,
      "implicitDf": true,
      "rowLimit": 10000
     },
     "inputWidgets": {},
     "nuid": "041feadd-e250-44ec-bbaf-8489e4c277ef",
     "showTitle": false,
     "title": ""
    }
   },
   "outputs": [],
   "source": [
    "%sql\n",
    "\n",
    "WITH cte AS \n",
    "(\n",
    "  SELECT s.data, s.cnpj, s.descproduto, s.codigobarras, \n",
    "        row_number() over(PARTITION BY s.data, s.cnpj, s.descproduto, s.codigobarras ORDER BY s.data) as row_number\n",
    "        FROM  brewdat_uc_saz_prod.slv_br_redemateus_sellout.sellout s\n",
    "  WHERE 1=1\n",
    "  AND   s.year = 2024 \n",
    "  AND   s.month = 6 \n",
    "  AND   s.day = 26\n",
    "  QUALIFY row_number = 1\n",
    ")\n",
    "\n",
    "SELECT  count(*)\n",
    "FROM    cte \n",
    "--WHERE   row_number = 1"
   ]
  },
  {
   "cell_type": "code",
   "execution_count": 0,
   "metadata": {
    "application/vnd.databricks.v1+cell": {
     "cellMetadata": {
      "byteLimit": 2048000,
      "implicitDf": true,
      "rowLimit": 10000
     },
     "inputWidgets": {},
     "nuid": "dcbf49ce-c8cf-4a95-a752-cd4f8c5c67d4",
     "showTitle": false,
     "title": ""
    }
   },
   "outputs": [],
   "source": [
    "%sql\n",
    "SELECT s.data, s.cnpj, s.descproduto, s.codigobarras\n",
    "FROM  brewdat_uc_saz_prod.slv_br_redemateus_sellout.sellout s\n",
    "WHERE 1=1\n",
    "AND   s.year = 2024 \n",
    "AND   s.month = 6 \n",
    "AND   s.day = 26\n",
    "AND   s.cnpj = '3995515001309'"
   ]
  },
  {
   "cell_type": "markdown",
   "metadata": {
    "application/vnd.databricks.v1+cell": {
     "cellMetadata": {},
     "inputWidgets": {},
     "nuid": "54764045-50f7-4315-8125-d8945eebde9d",
     "showTitle": false,
     "title": ""
    }
   },
   "source": [
    "### Gold"
   ]
  },
  {
   "cell_type": "code",
   "execution_count": 0,
   "metadata": {
    "application/vnd.databricks.v1+cell": {
     "cellMetadata": {
      "byteLimit": 2048000,
      "implicitDf": true,
      "rowLimit": 10000
     },
     "inputWidgets": {},
     "nuid": "7b134a72-0b99-44b3-a593-eff9accd6852",
     "showTitle": false,
     "title": ""
    }
   },
   "outputs": [],
   "source": [
    "%sql\n",
    "SELECT count(*) row_br_saz_prod, INGESTION_DATE\n",
    "FROM  brewdat_uc_saz_prod.gld_saz_sales_rede_mateus.sellout\n",
    "GROUP BY INGESTION_DATE\n",
    "ORDER BY INGESTION_DATE"
   ]
  },
  {
   "cell_type": "code",
   "execution_count": 0,
   "metadata": {
    "application/vnd.databricks.v1+cell": {
     "cellMetadata": {
      "byteLimit": 2048000,
      "implicitDf": true,
      "rowLimit": 10000
     },
     "inputWidgets": {},
     "nuid": "de26c49c-1a61-405b-9286-eb72dec5f971",
     "showTitle": false,
     "title": ""
    }
   },
   "outputs": [],
   "source": [
    "%sql\n",
    "SELECT  sel.CNPJ, \n",
    "        count(*) row_br_saz_prod,\n",
    "        sum(cast(sel.QUANTIDADEVENDA as DOUBLE)) as QUANTIDADEVENDA,\n",
    "        sum(cast(sel.VALORVENDA as DOUBLE)) as VALORVENDA,\n",
    "        sum(cast(sel.QUANTIDADEESTOQUE as DOUBLE)) as QUANTIDADEESTOQUE\n",
    "\n",
    "FROM  brewdat_uc_saz_prod.gld_saz_sales_rede_mateus.sellout sel\n",
    "WHERE to_date(sel.DATA, 'yyyy-MM-dd') BETWEEN '2024-06-01' AND '2024-06-30'\n",
    "GROUP BY sel.CNPJ\n",
    "ORDER BY sel.CNPJ"
   ]
  },
  {
   "cell_type": "code",
   "execution_count": 0,
   "metadata": {
    "application/vnd.databricks.v1+cell": {
     "cellMetadata": {
      "byteLimit": 2048000,
      "implicitDf": true,
      "rowLimit": 10000
     },
     "inputWidgets": {},
     "nuid": "36132d08-9ea5-4edc-ba2b-0b7933aa675e",
     "showTitle": false,
     "title": ""
    }
   },
   "outputs": [],
   "source": [
    "%sql\n",
    "SELECT *\n",
    "FROM    brewdat_uc_saz_prod.gld_br_sales_sellout_rede_mateus.sellout sel\n",
    "WHERE   to_date(sel.DATA, 'yyyy-MM-dd') == '2024-06-01'\n",
    "AND     CNPJ == '3995515008222' \n",
    "AND DESCPRODUTO = 'REFRIG GUARANA ANTARCTICA ZERO 1L' \n",
    "AND CODIGOBARRAS = '7891991002608'"
   ]
  },
  {
   "cell_type": "markdown",
   "metadata": {
    "application/vnd.databricks.v1+cell": {
     "cellMetadata": {},
     "inputWidgets": {},
     "nuid": "96d85bcb-d60a-4055-a81a-13b5cb4b7301",
     "showTitle": false,
     "title": ""
    }
   },
   "source": [
    "#Painel de Execução\n"
   ]
  },
  {
   "cell_type": "markdown",
   "metadata": {
    "application/vnd.databricks.v1+cell": {
     "cellMetadata": {},
     "inputWidgets": {},
     "nuid": "f65594d4-73ee-4e30-aa1c-23458727e0b3",
     "showTitle": false,
     "title": ""
    }
   },
   "source": [
    "## blocklist_alavancas_jbp"
   ]
  },
  {
   "cell_type": "code",
   "execution_count": 0,
   "metadata": {
    "application/vnd.databricks.v1+cell": {
     "cellMetadata": {
      "byteLimit": 2048000,
      "rowLimit": 10000
     },
     "inputWidgets": {},
     "nuid": "734d18b1-7e8d-48ae-9fe4-afd0e5804d75",
     "showTitle": false,
     "title": ""
    }
   },
   "outputs": [],
   "source": [
    "%sql\n",
    "SELECT year, month, day, count(*) \n",
    "FROM brewdat_uc_saz_prod.brz_br_input_manual_blocklist_alavancas_jbp.blocklist_alavancas_jbp\n",
    "GROUP BY year, month, day\n",
    "ORDER BY year, month, day"
   ]
  },
  {
   "cell_type": "code",
   "execution_count": 0,
   "metadata": {
    "application/vnd.databricks.v1+cell": {
     "cellMetadata": {},
     "inputWidgets": {},
     "nuid": "018e3e29-b259-4441-8292-d1aa8d33a3c8",
     "showTitle": false,
     "title": ""
    }
   },
   "outputs": [],
   "source": [
    "%sql\n",
    "SELECT year, month, day, count(*) \n",
    "FROM brewdat_uc_saz_prod.brz_br_input_manual_blocklist_alavancas_jbp.blocklist_alavancas_jbp\n",
    "GROUP BY year, month, day\n",
    "ORDER BY year, month, day"
   ]
  },
  {
   "cell_type": "markdown",
   "metadata": {
    "application/vnd.databricks.v1+cell": {
     "cellMetadata": {},
     "inputWidgets": {},
     "nuid": "da3037ed-545d-4157-8850-a9e6ca72b17e",
     "showTitle": false,
     "title": ""
    }
   },
   "source": [
    "## criticas"
   ]
  },
  {
   "cell_type": "code",
   "execution_count": 0,
   "metadata": {
    "application/vnd.databricks.v1+cell": {
     "cellMetadata": {
      "byteLimit": 2048000,
      "rowLimit": 10000
     },
     "inputWidgets": {},
     "nuid": "0fa189be-712c-42f2-91cb-f2c87d68c2e3",
     "showTitle": false,
     "title": ""
    }
   },
   "outputs": [],
   "source": [
    "%sql\n",
    "SELECT year, month, day, count(*) \n",
    "FROM  brewdat_uc_saz_prod.brz_br_input_manual_criticas.criticas\n",
    "GROUP BY year, month, day\n",
    "ORDER BY year, month, day"
   ]
  },
  {
   "cell_type": "markdown",
   "metadata": {
    "application/vnd.databricks.v1+cell": {
     "cellMetadata": {},
     "inputWidgets": {},
     "nuid": "41395d98-d325-4f1f-a956-d391bb617b1c",
     "showTitle": false,
     "title": ""
    }
   },
   "source": [
    "## depara_alavancas_jbp"
   ]
  },
  {
   "cell_type": "code",
   "execution_count": 0,
   "metadata": {
    "application/vnd.databricks.v1+cell": {
     "cellMetadata": {
      "byteLimit": 2048000,
      "rowLimit": 10000
     },
     "inputWidgets": {},
     "nuid": "46bc4286-6d48-423d-80db-234dccf81321",
     "showTitle": false,
     "title": ""
    }
   },
   "outputs": [],
   "source": [
    "%sql\n",
    "SELECT year, month, day, count(*) \n",
    "FROM  brewdat_uc_saz_prod.brz_br_input_manual_depara_alavancas_jbp.depara_alavancas_jbp\n",
    "GROUP BY year, month, day\n",
    "ORDER BY year, month, day"
   ]
  },
  {
   "cell_type": "markdown",
   "metadata": {
    "application/vnd.databricks.v1+cell": {
     "cellMetadata": {},
     "inputWidgets": {},
     "nuid": "9cc4988c-e0f0-45ab-a1d2-43d6435ca1f8",
     "showTitle": false,
     "title": ""
    }
   },
   "source": [
    "# Carrefour"
   ]
  },
  {
   "cell_type": "markdown",
   "metadata": {
    "application/vnd.databricks.v1+cell": {
     "cellMetadata": {},
     "inputWidgets": {},
     "nuid": "0fa083d3-4cb9-4bc7-889f-4c2ac432e8d1",
     "showTitle": false,
     "title": ""
    }
   },
   "source": [
    "## Sales"
   ]
  },
  {
   "cell_type": "markdown",
   "metadata": {
    "application/vnd.databricks.v1+cell": {
     "cellMetadata": {},
     "inputWidgets": {},
     "nuid": "7d713740-18f5-46d9-99d6-1f544708f0c1",
     "showTitle": false,
     "title": ""
    }
   },
   "source": [
    "### Bronze"
   ]
  },
  {
   "cell_type": "code",
   "execution_count": 0,
   "metadata": {
    "application/vnd.databricks.v1+cell": {
     "cellMetadata": {
      "byteLimit": 2048000,
      "implicitDf": true,
      "rowLimit": 10000
     },
     "inputWidgets": {},
     "nuid": "29cbf891-f6be-458e-91cf-140c1cc10905",
     "showTitle": false,
     "title": ""
    }
   },
   "outputs": [],
   "source": [
    "%sql\n",
    "SELECT year, month, day, count(*)\n",
    "FROM brewdat_uc_saz_prod.brz_br_carrefour_sales.sales\n",
    "GROUP BY year, month, day\n",
    "ORDER BY year, month, day"
   ]
  },
  {
   "cell_type": "markdown",
   "metadata": {
    "application/vnd.databricks.v1+cell": {
     "cellMetadata": {},
     "inputWidgets": {},
     "nuid": "4360f2ac-e7f6-48b3-af6d-de0c19c1baba",
     "showTitle": false,
     "title": ""
    }
   },
   "source": [
    "### Silver"
   ]
  },
  {
   "cell_type": "code",
   "execution_count": 0,
   "metadata": {
    "application/vnd.databricks.v1+cell": {
     "cellMetadata": {
      "byteLimit": 2048000,
      "implicitDf": true,
      "rowLimit": 10000
     },
     "inputWidgets": {},
     "nuid": "0140eb4d-0f52-48e2-b0e1-fb8f8aa1ab78",
     "showTitle": false,
     "title": ""
    }
   },
   "outputs": [],
   "source": [
    "%sql\n",
    "SELECT year, month, day, count(*)\n",
    "FROM brewdat_uc_saz_prod.slv_br_carrefour_sales.sales\n",
    "GROUP BY year, month, day\n",
    "ORDER BY year, month, day"
   ]
  },
  {
   "cell_type": "markdown",
   "metadata": {
    "application/vnd.databricks.v1+cell": {
     "cellMetadata": {},
     "inputWidgets": {},
     "nuid": "89a88e6e-bc6a-48b4-8fb1-0a032235e18e",
     "showTitle": false,
     "title": ""
    }
   },
   "source": [
    "## Stocks"
   ]
  },
  {
   "cell_type": "markdown",
   "metadata": {
    "application/vnd.databricks.v1+cell": {
     "cellMetadata": {},
     "inputWidgets": {},
     "nuid": "51d1f610-e98d-4385-9793-e51d0ae30be9",
     "showTitle": false,
     "title": ""
    }
   },
   "source": [
    "### Bronze"
   ]
  },
  {
   "cell_type": "code",
   "execution_count": 0,
   "metadata": {
    "application/vnd.databricks.v1+cell": {
     "cellMetadata": {
      "byteLimit": 2048000,
      "implicitDf": true,
      "rowLimit": 10000
     },
     "inputWidgets": {},
     "nuid": "15155ab6-ded8-4273-b791-40b184c0214d",
     "showTitle": false,
     "title": ""
    }
   },
   "outputs": [],
   "source": [
    "%sql\n",
    "SELECT year, month, day, count(*)\n",
    "FROM brewdat_uc_saz_prod.brz_br_carrefour_stocks.stocks\n",
    "GROUP BY year, month, day\n",
    "ORDER BY year, month, day"
   ]
  },
  {
   "cell_type": "markdown",
   "metadata": {
    "application/vnd.databricks.v1+cell": {
     "cellMetadata": {},
     "inputWidgets": {},
     "nuid": "889c5071-c033-4d68-9b72-f6d7062019b2",
     "showTitle": false,
     "title": ""
    }
   },
   "source": [
    "### Silver"
   ]
  },
  {
   "cell_type": "code",
   "execution_count": 0,
   "metadata": {
    "application/vnd.databricks.v1+cell": {
     "cellMetadata": {
      "byteLimit": 2048000,
      "implicitDf": true,
      "rowLimit": 10000
     },
     "inputWidgets": {},
     "nuid": "6f44edb4-06c2-403a-8f60-4e6ee5439a7f",
     "showTitle": false,
     "title": ""
    }
   },
   "outputs": [],
   "source": [
    "%sql\n",
    "SELECT year, month, day, count(*)\n",
    "FROM brewdat_uc_saz_prod.slv_br_carrefour_stocks.stocks\n",
    "GROUP BY year, month, day\n",
    "ORDER BY year, month, day"
   ]
  },
  {
   "cell_type": "markdown",
   "metadata": {
    "application/vnd.databricks.v1+cell": {
     "cellMetadata": {},
     "inputWidgets": {},
     "nuid": "1da23052-76ed-443a-ae25-280764f7facf",
     "showTitle": false,
     "title": ""
    }
   },
   "source": [
    "# Cesta Disponibilidade"
   ]
  },
  {
   "cell_type": "markdown",
   "metadata": {
    "application/vnd.databricks.v1+cell": {
     "cellMetadata": {},
     "inputWidgets": {},
     "nuid": "6d474230-4f3f-4882-adda-e43486564847",
     "showTitle": false,
     "title": ""
    }
   },
   "source": [
    "## Sellout"
   ]
  },
  {
   "cell_type": "markdown",
   "metadata": {
    "application/vnd.databricks.v1+cell": {
     "cellMetadata": {},
     "inputWidgets": {},
     "nuid": "c393c876-7c06-4e13-ac12-62917cce7164",
     "showTitle": false,
     "title": ""
    }
   },
   "source": [
    "### Bronze"
   ]
  },
  {
   "cell_type": "code",
   "execution_count": 0,
   "metadata": {
    "application/vnd.databricks.v1+cell": {
     "cellMetadata": {
      "byteLimit": 2048000,
      "rowLimit": 10000
     },
     "inputWidgets": {},
     "nuid": "09c34689-f5ab-433d-b65d-bdddfc58fce2",
     "showTitle": false,
     "title": ""
    }
   },
   "outputs": [],
   "source": [
    "%sql\n",
    "SELECT year, month, day, count(*)\n",
    "FROM brewdat_uc_saz_prod.brz_br_cesta_disponibilidade_cesta_disponibilidade.cesta_disponibilidade\n",
    "GROUP BY year, month, day\n",
    "ORDER BY year, month, day"
   ]
  },
  {
   "cell_type": "markdown",
   "metadata": {
    "application/vnd.databricks.v1+cell": {
     "cellMetadata": {},
     "inputWidgets": {},
     "nuid": "ed3420bb-26b7-4232-81b7-15aede53d511",
     "showTitle": false,
     "title": ""
    }
   },
   "source": [
    "### Silver"
   ]
  },
  {
   "cell_type": "code",
   "execution_count": 0,
   "metadata": {
    "application/vnd.databricks.v1+cell": {
     "cellMetadata": {
      "byteLimit": 2048000,
      "rowLimit": 10000
     },
     "inputWidgets": {},
     "nuid": "35bc4dc5-ecd9-4194-ab7e-1030130459ef",
     "showTitle": false,
     "title": ""
    }
   },
   "outputs": [],
   "source": [
    "%sql\n",
    "SELECT year, month, day, count(*)\n",
    "FROM brewdat_uc_saz_prod.brz_br_cesta_disponibilidade_cesta_disponibilidade.cesta_disponibilidade\n",
    "GROUP BY year, month, day\n",
    "ORDER BY year, month, day"
   ]
  },
  {
   "cell_type": "markdown",
   "metadata": {
    "application/vnd.databricks.v1+cell": {
     "cellMetadata": {},
     "inputWidgets": {},
     "nuid": "c24ed7c5-4fe3-49b8-a3a8-fc24ff13e439",
     "showTitle": false,
     "title": ""
    }
   },
   "source": [
    "# DPDV Geo\n"
   ]
  },
  {
   "cell_type": "markdown",
   "metadata": {
    "application/vnd.databricks.v1+cell": {
     "cellMetadata": {},
     "inputWidgets": {},
     "nuid": "e6007b90-92f5-4fc5-803d-080f25e06680",
     "showTitle": false,
     "title": ""
    }
   },
   "source": [
    "## dpdv_direta"
   ]
  },
  {
   "cell_type": "markdown",
   "metadata": {
    "application/vnd.databricks.v1+cell": {
     "cellMetadata": {},
     "inputWidgets": {},
     "nuid": "6c338852-fd6b-40c2-a50d-fa8294636e21",
     "showTitle": false,
     "title": ""
    }
   },
   "source": [
    "### Bronze"
   ]
  },
  {
   "cell_type": "code",
   "execution_count": 0,
   "metadata": {
    "application/vnd.databricks.v1+cell": {
     "cellMetadata": {
      "byteLimit": 2048000,
      "implicitDf": true,
      "rowLimit": 10000
     },
     "inputWidgets": {},
     "nuid": "4df01085-43f0-437c-88f5-9d6064edfdb9",
     "showTitle": false,
     "title": ""
    }
   },
   "outputs": [],
   "source": [
    "%sql\n",
    "SELECT year, month, day, count(*)\n",
    "FROM brewdat_uc_saz_prod.brz_br_dados_pdv_geo_dpdv_direta.dpdv_direta\n",
    "GROUP BY year, month, day\n",
    "ORDER BY year, month, day"
   ]
  },
  {
   "cell_type": "markdown",
   "metadata": {
    "application/vnd.databricks.v1+cell": {
     "cellMetadata": {},
     "inputWidgets": {},
     "nuid": "1f04bb97-4359-4642-9d5b-d1cc75f7840e",
     "showTitle": false,
     "title": ""
    }
   },
   "source": [
    "### Silver"
   ]
  },
  {
   "cell_type": "code",
   "execution_count": 0,
   "metadata": {
    "application/vnd.databricks.v1+cell": {
     "cellMetadata": {
      "byteLimit": 2048000,
      "implicitDf": true,
      "rowLimit": 10000
     },
     "inputWidgets": {},
     "nuid": "45bbaa5e-bf4b-4a13-ac96-4fd65c266544",
     "showTitle": false,
     "title": ""
    }
   },
   "outputs": [],
   "source": [
    "%sql\n",
    "SELECT year, month, day, count(*)\n",
    "FROM brewdat_uc_saz_prod.slv_br_dados_pdv_geo_dpdv_direta.dpdv_direta\n",
    "GROUP BY year, month, day\n",
    "ORDER BY year, month, day"
   ]
  },
  {
   "cell_type": "markdown",
   "metadata": {
    "application/vnd.databricks.v1+cell": {
     "cellMetadata": {},
     "inputWidgets": {},
     "nuid": "b8894a28-41b8-4c9c-8912-9d843356d811",
     "showTitle": false,
     "title": ""
    }
   },
   "source": [
    "## dpdv_lojasalvo"
   ]
  },
  {
   "cell_type": "markdown",
   "metadata": {
    "application/vnd.databricks.v1+cell": {
     "cellMetadata": {},
     "inputWidgets": {},
     "nuid": "37e37013-58af-46e4-b01d-8cd19e65870b",
     "showTitle": false,
     "title": ""
    }
   },
   "source": [
    "### Bronze"
   ]
  },
  {
   "cell_type": "code",
   "execution_count": 0,
   "metadata": {
    "application/vnd.databricks.v1+cell": {
     "cellMetadata": {
      "byteLimit": 2048000,
      "rowLimit": 10000
     },
     "inputWidgets": {},
     "nuid": "fe122107-b432-415e-8964-183ba3a3f6d0",
     "showTitle": false,
     "title": ""
    }
   },
   "outputs": [],
   "source": [
    "%sql\n",
    "SELECT year, month, day, count(*)\n",
    "FROM brewdat_uc_saz_prod.brz_br_dados_pdv_geo_dpdv_lojasalvo.dpdv_lojasalvo\n",
    "GROUP BY year, month, day\n",
    "ORDER BY year, month, day"
   ]
  },
  {
   "cell_type": "markdown",
   "metadata": {
    "application/vnd.databricks.v1+cell": {
     "cellMetadata": {},
     "inputWidgets": {},
     "nuid": "c7dd8be5-97c6-41f7-a185-470405fa2512",
     "showTitle": false,
     "title": ""
    }
   },
   "source": [
    "### Silver"
   ]
  },
  {
   "cell_type": "code",
   "execution_count": 0,
   "metadata": {
    "application/vnd.databricks.v1+cell": {
     "cellMetadata": {
      "byteLimit": 2048000,
      "rowLimit": 10000
     },
     "inputWidgets": {},
     "nuid": "9946f2f2-5a64-4157-b47d-7ca37d5b2482",
     "showTitle": false,
     "title": ""
    }
   },
   "outputs": [],
   "source": [
    "%sql\n",
    "SELECT year, month, day, count(*)\n",
    "FROM brewdat_uc_saz_prod.slv_br_dados_pdv_geo_dpdv_lojasalvo.dpdv_lojasalvo\n",
    "GROUP BY year, month, day\n",
    "ORDER BY year, month, day"
   ]
  },
  {
   "cell_type": "markdown",
   "metadata": {
    "application/vnd.databricks.v1+cell": {
     "cellMetadata": {},
     "inputWidgets": {},
     "nuid": "9e12f53b-43c9-4ffd-9c4e-4b6539ba4eef",
     "showTitle": false,
     "title": ""
    }
   },
   "source": [
    "## dpdv_vinhanca"
   ]
  },
  {
   "cell_type": "markdown",
   "metadata": {
    "application/vnd.databricks.v1+cell": {
     "cellMetadata": {},
     "inputWidgets": {},
     "nuid": "df8a22f0-acca-48ec-9944-d50fba1b21d5",
     "showTitle": false,
     "title": ""
    }
   },
   "source": [
    "### Bronze"
   ]
  },
  {
   "cell_type": "code",
   "execution_count": 0,
   "metadata": {
    "application/vnd.databricks.v1+cell": {
     "cellMetadata": {
      "byteLimit": 2048000,
      "rowLimit": 10000
     },
     "inputWidgets": {},
     "nuid": "9986354a-8c46-48c1-b942-a954cae8c898",
     "showTitle": false,
     "title": ""
    }
   },
   "outputs": [],
   "source": [
    "%sql\n",
    "SELECT year, month, day, count(*)\n",
    "FROM brewdat_uc_saz_prod.brz_br_dados_pdv_geo_dpdv_vizinhanca.dpdv_vizinhanca\n",
    "GROUP BY year, month, day\n",
    "ORDER BY year, month, day"
   ]
  },
  {
   "cell_type": "markdown",
   "metadata": {
    "application/vnd.databricks.v1+cell": {
     "cellMetadata": {},
     "inputWidgets": {},
     "nuid": "980882c8-3568-4f1c-8f56-c4dd47332cdf",
     "showTitle": false,
     "title": ""
    }
   },
   "source": [
    "### Silver"
   ]
  },
  {
   "cell_type": "code",
   "execution_count": 0,
   "metadata": {
    "application/vnd.databricks.v1+cell": {
     "cellMetadata": {
      "byteLimit": 2048000,
      "rowLimit": 10000
     },
     "inputWidgets": {},
     "nuid": "f3b91da3-5c0c-4f86-9b7d-518abd09e788",
     "showTitle": false,
     "title": ""
    }
   },
   "outputs": [],
   "source": [
    "%sql\n",
    "SELECT year, month, day, count(*)\n",
    "FROM brewdat_uc_saz_prod.slv_br_dados_pdv_geo_dpdv_vizinhanca.dpdv_vizinhanca\n",
    "GROUP BY year, month, day\n",
    "ORDER BY year, month, day"
   ]
  },
  {
   "cell_type": "markdown",
   "metadata": {
    "application/vnd.databricks.v1+cell": {
     "cellMetadata": {},
     "inputWidgets": {},
     "nuid": "a2ddf113-48ef-45e4-b4e6-be837494fd89",
     "showTitle": false,
     "title": ""
    }
   },
   "source": [
    "# Manual Mastertable\n"
   ]
  },
  {
   "cell_type": "markdown",
   "metadata": {
    "application/vnd.databricks.v1+cell": {
     "cellMetadata": {},
     "inputWidgets": {},
     "nuid": "245dd5d1-23d5-43e0-a068-2d772cfd360f",
     "showTitle": false,
     "title": ""
    }
   },
   "source": [
    "## master_table"
   ]
  },
  {
   "cell_type": "markdown",
   "metadata": {
    "application/vnd.databricks.v1+cell": {
     "cellMetadata": {},
     "inputWidgets": {},
     "nuid": "109cc295-d2c4-4117-81af-5f5682eafffb",
     "showTitle": false,
     "title": ""
    }
   },
   "source": [
    "### Bronze"
   ]
  },
  {
   "cell_type": "code",
   "execution_count": 0,
   "metadata": {
    "application/vnd.databricks.v1+cell": {
     "cellMetadata": {
      "byteLimit": 2048000,
      "implicitDf": true,
      "rowLimit": 10000
     },
     "inputWidgets": {},
     "nuid": "5c35272a-e82e-4e8b-911d-3f3ec6fe6e58",
     "showTitle": false,
     "title": ""
    }
   },
   "outputs": [],
   "source": [
    "%sql\n",
    "SELECT year, month, day, count(*)\n",
    "FROM brewdat_uc_saz_prod.brz_br_manual_mastertable_master_table.master_table\n",
    "GROUP BY year, month, day\n",
    "ORDER BY year, month, day"
   ]
  },
  {
   "cell_type": "markdown",
   "metadata": {
    "application/vnd.databricks.v1+cell": {
     "cellMetadata": {},
     "inputWidgets": {},
     "nuid": "52ec90ac-84b4-4598-bff6-6df4336135b8",
     "showTitle": false,
     "title": ""
    }
   },
   "source": [
    "### Silver"
   ]
  },
  {
   "cell_type": "code",
   "execution_count": 0,
   "metadata": {
    "application/vnd.databricks.v1+cell": {
     "cellMetadata": {
      "byteLimit": 2048000,
      "implicitDf": true,
      "rowLimit": 10000
     },
     "inputWidgets": {},
     "nuid": "d6ec9e44-865e-4eff-aa9e-2aa662a464ee",
     "showTitle": false,
     "title": ""
    }
   },
   "outputs": [],
   "source": [
    "%sql\n",
    "SELECT year, month, day, count(*)\n",
    "FROM brewdat_uc_saz_prod.slv_br_manual_mastertable_master_table.master_table\n",
    "GROUP BY year, month, day\n",
    "ORDER BY year, month, day"
   ]
  },
  {
   "cell_type": "markdown",
   "metadata": {
    "application/vnd.databricks.v1+cell": {
     "cellMetadata": {},
     "inputWidgets": {},
     "nuid": "d11aca8d-6494-4be5-96f2-efdbc7d2a0f2",
     "showTitle": false,
     "title": ""
    }
   },
   "source": [
    "## master_table_basket"
   ]
  },
  {
   "cell_type": "markdown",
   "metadata": {
    "application/vnd.databricks.v1+cell": {
     "cellMetadata": {},
     "inputWidgets": {},
     "nuid": "2a6099e6-ca9a-4572-be75-1d31da357715",
     "showTitle": false,
     "title": ""
    }
   },
   "source": [
    "### Bronze"
   ]
  },
  {
   "cell_type": "code",
   "execution_count": 0,
   "metadata": {
    "application/vnd.databricks.v1+cell": {
     "cellMetadata": {
      "byteLimit": 2048000,
      "rowLimit": 10000
     },
     "inputWidgets": {},
     "nuid": "b084ce26-da42-475c-bdff-957c50e46a89",
     "showTitle": false,
     "title": ""
    }
   },
   "outputs": [],
   "source": [
    "%sql\n",
    "SELECT year, month, day, count(*)\n",
    "FROM brewdat_uc_saz_prod.brz_br_manual_mastertable_master_table_basket.master_table_basket\n",
    "GROUP BY year, month, day\n",
    "ORDER BY year, month, day"
   ]
  },
  {
   "cell_type": "markdown",
   "metadata": {
    "application/vnd.databricks.v1+cell": {
     "cellMetadata": {},
     "inputWidgets": {},
     "nuid": "19c48e5e-9bfd-41e6-b5d8-0bd5bdabb181",
     "showTitle": false,
     "title": ""
    }
   },
   "source": [
    "### Silver"
   ]
  },
  {
   "cell_type": "code",
   "execution_count": 0,
   "metadata": {
    "application/vnd.databricks.v1+cell": {
     "cellMetadata": {
      "byteLimit": 2048000,
      "rowLimit": 10000
     },
     "inputWidgets": {},
     "nuid": "176ca824-7591-42bb-9704-1865dda8d112",
     "showTitle": false,
     "title": ""
    }
   },
   "outputs": [],
   "source": [
    "%sql\n",
    "SELECT year, month, day, count(*)\n",
    "FROM brewdat_uc_saz_prod.slv_br_manual_mastertable_master_table_basket.master_table_basket\n",
    "GROUP BY year, month, day\n",
    "ORDER BY year, month, day"
   ]
  },
  {
   "cell_type": "markdown",
   "metadata": {
    "application/vnd.databricks.v1+cell": {
     "cellMetadata": {},
     "inputWidgets": {},
     "nuid": "41502d31-2ea7-40c8-a2f9-651584bbb268",
     "showTitle": false,
     "title": ""
    }
   },
   "source": [
    "## master_table_category"
   ]
  },
  {
   "cell_type": "markdown",
   "metadata": {
    "application/vnd.databricks.v1+cell": {
     "cellMetadata": {},
     "inputWidgets": {},
     "nuid": "d9f8803f-aa9d-49bd-b36e-03bfc0cd6737",
     "showTitle": false,
     "title": ""
    }
   },
   "source": [
    "### Bronze"
   ]
  },
  {
   "cell_type": "code",
   "execution_count": 0,
   "metadata": {
    "application/vnd.databricks.v1+cell": {
     "cellMetadata": {
      "byteLimit": 2048000,
      "rowLimit": 10000
     },
     "inputWidgets": {},
     "nuid": "96586593-320b-49d6-8a51-55cd4a61fd7f",
     "showTitle": false,
     "title": ""
    }
   },
   "outputs": [],
   "source": [
    "%sql\n",
    "SELECT year, month, day, count(*)\n",
    "FROM brewdat_uc_saz_prod.brz_br_manual_mastertable_master_table_category.master_table_category\n",
    "GROUP BY year, month, day\n",
    "ORDER BY year, month, day"
   ]
  },
  {
   "cell_type": "markdown",
   "metadata": {
    "application/vnd.databricks.v1+cell": {
     "cellMetadata": {},
     "inputWidgets": {},
     "nuid": "b7b16c24-867b-4ffb-8f4f-a5f08f9db280",
     "showTitle": false,
     "title": ""
    }
   },
   "source": [
    "### Silver"
   ]
  },
  {
   "cell_type": "code",
   "execution_count": 0,
   "metadata": {
    "application/vnd.databricks.v1+cell": {
     "cellMetadata": {
      "byteLimit": 2048000,
      "rowLimit": 10000
     },
     "inputWidgets": {},
     "nuid": "c08cdb84-0bfd-40b1-a91f-f68251f3fca0",
     "showTitle": false,
     "title": ""
    }
   },
   "outputs": [],
   "source": [
    "%sql\n",
    "SELECT year, month, day, count(*)\n",
    "FROM brewdat_uc_saz_prod.slv_br_manual_mastertable_master_table_category.master_table_category\n",
    "GROUP BY year, month, day\n",
    "ORDER BY year, month, day"
   ]
  },
  {
   "cell_type": "markdown",
   "metadata": {
    "application/vnd.databricks.v1+cell": {
     "cellMetadata": {},
     "inputWidgets": {},
     "nuid": "5df96637-b181-460d-a3b1-c298613b6792",
     "showTitle": false,
     "title": ""
    }
   },
   "source": [
    "## master_table_company"
   ]
  },
  {
   "cell_type": "markdown",
   "metadata": {
    "application/vnd.databricks.v1+cell": {
     "cellMetadata": {},
     "inputWidgets": {},
     "nuid": "acef8a81-2470-416f-849d-502b37b07c07",
     "showTitle": false,
     "title": ""
    }
   },
   "source": [
    "### Bronze"
   ]
  },
  {
   "cell_type": "code",
   "execution_count": 0,
   "metadata": {
    "application/vnd.databricks.v1+cell": {
     "cellMetadata": {
      "byteLimit": 2048000,
      "rowLimit": 10000
     },
     "inputWidgets": {},
     "nuid": "bf1345af-6d69-4491-81ae-bce3315ac61f",
     "showTitle": false,
     "title": ""
    }
   },
   "outputs": [],
   "source": [
    "%sql\n",
    "SELECT year, month, day, count(*)\n",
    "FROM brewdat_uc_saz_prod.brz_br_manual_mastertable_master_table_company.master_table_company\n",
    "GROUP BY year, month, day\n",
    "ORDER BY year, month, day"
   ]
  },
  {
   "cell_type": "markdown",
   "metadata": {
    "application/vnd.databricks.v1+cell": {
     "cellMetadata": {},
     "inputWidgets": {},
     "nuid": "765fe6af-6955-4b16-a0e6-4fb89a14e52f",
     "showTitle": false,
     "title": ""
    }
   },
   "source": [
    "###Silver"
   ]
  },
  {
   "cell_type": "code",
   "execution_count": 0,
   "metadata": {
    "application/vnd.databricks.v1+cell": {
     "cellMetadata": {
      "byteLimit": 2048000,
      "rowLimit": 10000
     },
     "inputWidgets": {},
     "nuid": "5b25bd98-d3b4-4fc4-837c-b0d8ebc138f1",
     "showTitle": false,
     "title": ""
    }
   },
   "outputs": [],
   "source": [
    "%sql\n",
    "SELECT year, month, day, count(*)\n",
    "FROM brewdat_uc_saz_prod.slv_br_manual_mastertable_master_table_company.master_table_company\n",
    "GROUP BY year, month, day\n",
    "ORDER BY year, month, day"
   ]
  },
  {
   "cell_type": "markdown",
   "metadata": {
    "application/vnd.databricks.v1+cell": {
     "cellMetadata": {},
     "inputWidgets": {},
     "nuid": "64befe58-2963-4944-9ab0-ff1983735f09",
     "showTitle": false,
     "title": ""
    }
   },
   "source": [
    "## master_table_future_bevs"
   ]
  },
  {
   "cell_type": "markdown",
   "metadata": {
    "application/vnd.databricks.v1+cell": {
     "cellMetadata": {},
     "inputWidgets": {},
     "nuid": "20735481-db29-4b9b-9d84-bd9ee42666a9",
     "showTitle": false,
     "title": ""
    }
   },
   "source": [
    "### Bronze"
   ]
  },
  {
   "cell_type": "code",
   "execution_count": 0,
   "metadata": {
    "application/vnd.databricks.v1+cell": {
     "cellMetadata": {
      "byteLimit": 2048000,
      "rowLimit": 10000
     },
     "inputWidgets": {},
     "nuid": "04dcd6ba-1cc3-42ac-85ab-af9ce2fbfdb7",
     "showTitle": false,
     "title": ""
    }
   },
   "outputs": [],
   "source": [
    "%sql\n",
    "SELECT year, month, day, count(*)\n",
    "FROM brewdat_uc_saz_prod.brz_br_manual_mastertable_master_table_future_bevs.master_table_future_bevs\n",
    "GROUP BY year, month, day\n",
    "ORDER BY year, month, day"
   ]
  },
  {
   "cell_type": "markdown",
   "metadata": {
    "application/vnd.databricks.v1+cell": {
     "cellMetadata": {},
     "inputWidgets": {},
     "nuid": "c361ebc6-caa6-4e73-971e-b375e174f8ce",
     "showTitle": false,
     "title": ""
    }
   },
   "source": [
    "### Silver"
   ]
  },
  {
   "cell_type": "code",
   "execution_count": 0,
   "metadata": {
    "application/vnd.databricks.v1+cell": {
     "cellMetadata": {
      "byteLimit": 2048000,
      "rowLimit": 10000
     },
     "inputWidgets": {},
     "nuid": "fad014e9-9434-460d-a2bd-78ca3d4977f1",
     "showTitle": false,
     "title": ""
    }
   },
   "outputs": [],
   "source": [
    "%sql\n",
    "SELECT year, month, day, count(*)\n",
    "FROM brewdat_uc_saz_prod.slv_br_manual_mastertable_master_table_future_bevs.master_table_future_bevs\n",
    "GROUP BY year, month, day\n",
    "ORDER BY year, month, day"
   ]
  },
  {
   "cell_type": "markdown",
   "metadata": {
    "application/vnd.databricks.v1+cell": {
     "cellMetadata": {},
     "inputWidgets": {},
     "nuid": "ed4f660e-485d-4018-b044-1053d770e77e",
     "showTitle": false,
     "title": ""
    }
   },
   "source": [
    "## master_table_generic"
   ]
  },
  {
   "cell_type": "markdown",
   "metadata": {
    "application/vnd.databricks.v1+cell": {
     "cellMetadata": {},
     "inputWidgets": {},
     "nuid": "e2a7cd24-2ba3-4d0b-ac7c-ea1bad2df2da",
     "showTitle": false,
     "title": ""
    }
   },
   "source": [
    "### Bronze"
   ]
  },
  {
   "cell_type": "code",
   "execution_count": 0,
   "metadata": {
    "application/vnd.databricks.v1+cell": {
     "cellMetadata": {
      "byteLimit": 2048000,
      "rowLimit": 10000
     },
     "inputWidgets": {},
     "nuid": "9a27976b-1614-4cba-bcc5-286825e2ab28",
     "showTitle": false,
     "title": ""
    }
   },
   "outputs": [],
   "source": [
    "%sql\n",
    "SELECT year, month, day, count(*)\n",
    "FROM brewdat_uc_saz_prod.brz_br_manual_mastertable_master_table_generic.master_table_generic\n",
    "GROUP BY year, month, day\n",
    "ORDER BY year, month, day"
   ]
  },
  {
   "cell_type": "markdown",
   "metadata": {
    "application/vnd.databricks.v1+cell": {
     "cellMetadata": {},
     "inputWidgets": {},
     "nuid": "b3876f6b-6699-4a32-a188-131c4342484e",
     "showTitle": false,
     "title": ""
    }
   },
   "source": [
    "### Silver"
   ]
  },
  {
   "cell_type": "code",
   "execution_count": 0,
   "metadata": {
    "application/vnd.databricks.v1+cell": {
     "cellMetadata": {
      "byteLimit": 2048000,
      "rowLimit": 10000
     },
     "inputWidgets": {},
     "nuid": "4ee8b430-6524-4070-a1f3-aa80dca53208",
     "showTitle": false,
     "title": ""
    }
   },
   "outputs": [],
   "source": [
    "%sql\n",
    "SELECT year, month, day, count(*)\n",
    "FROM brewdat_uc_saz_prod.brz_br_manual_mastertable_master_table_generic.master_table_generic\n",
    "GROUP BY year, month, day\n",
    "ORDER BY year, month, day"
   ]
  },
  {
   "cell_type": "markdown",
   "metadata": {
    "application/vnd.databricks.v1+cell": {
     "cellMetadata": {},
     "inputWidgets": {},
     "nuid": "d2a01708-6718-4cfb-9e09-0d4cc81c0e7c",
     "showTitle": false,
     "title": ""
    }
   },
   "source": [
    "## master_table_innovation"
   ]
  },
  {
   "cell_type": "markdown",
   "metadata": {
    "application/vnd.databricks.v1+cell": {
     "cellMetadata": {},
     "inputWidgets": {},
     "nuid": "b33b4885-7443-47ba-826d-46227d96fec3",
     "showTitle": false,
     "title": ""
    }
   },
   "source": [
    "### Bronze"
   ]
  },
  {
   "cell_type": "code",
   "execution_count": 0,
   "metadata": {
    "application/vnd.databricks.v1+cell": {
     "cellMetadata": {
      "byteLimit": 2048000,
      "rowLimit": 10000
     },
     "inputWidgets": {},
     "nuid": "dacf4684-14fa-4cc2-8a9f-eac0de780d64",
     "showTitle": false,
     "title": ""
    }
   },
   "outputs": [],
   "source": [
    "%sql\n",
    "SELECT year, month, day, count(*)\n",
    "FROM brewdat_uc_saz_prod.brz_br_manual_mastertable_master_table_innovation.master_table_innovation\n",
    "GROUP BY year, month, day\n",
    "ORDER BY year, month, day"
   ]
  },
  {
   "cell_type": "markdown",
   "metadata": {
    "application/vnd.databricks.v1+cell": {
     "cellMetadata": {},
     "inputWidgets": {},
     "nuid": "2d24d5fb-0cb0-4d6e-af12-c9259d418b1e",
     "showTitle": false,
     "title": ""
    }
   },
   "source": [
    "### Silver"
   ]
  },
  {
   "cell_type": "code",
   "execution_count": 0,
   "metadata": {
    "application/vnd.databricks.v1+cell": {
     "cellMetadata": {
      "byteLimit": 2048000,
      "rowLimit": 10000
     },
     "inputWidgets": {},
     "nuid": "708f8f89-b4b4-4a42-9c2e-0955b3bc29db",
     "showTitle": false,
     "title": ""
    }
   },
   "outputs": [],
   "source": [
    "%sql\n",
    "SELECT year, month, day, count(*)\n",
    "FROM brewdat_uc_saz_prod.slv_br_manual_mastertable_master_table_innovation.master_table_innovation\n",
    "GROUP BY year, month, day\n",
    "ORDER BY year, month, day"
   ]
  },
  {
   "cell_type": "markdown",
   "metadata": {
    "application/vnd.databricks.v1+cell": {
     "cellMetadata": {},
     "inputWidgets": {},
     "nuid": "f8bc11af-17c5-412f-8f47-2c81bfef0479",
     "showTitle": false,
     "title": ""
    }
   },
   "source": [
    "## master_table_mea_unit"
   ]
  },
  {
   "cell_type": "markdown",
   "metadata": {
    "application/vnd.databricks.v1+cell": {
     "cellMetadata": {},
     "inputWidgets": {},
     "nuid": "035d512a-ba33-476f-ba06-ec7c0d2c49f8",
     "showTitle": false,
     "title": ""
    }
   },
   "source": [
    "### Bronze"
   ]
  },
  {
   "cell_type": "code",
   "execution_count": 0,
   "metadata": {
    "application/vnd.databricks.v1+cell": {
     "cellMetadata": {
      "byteLimit": 2048000,
      "rowLimit": 10000
     },
     "inputWidgets": {},
     "nuid": "5db296a6-8ed7-42b8-9132-b9b18936525c",
     "showTitle": false,
     "title": ""
    }
   },
   "outputs": [],
   "source": [
    "%sql\n",
    "SELECT year, month, day, count(*)\n",
    "FROM brewdat_uc_saz_prod.brz_br_manual_mastertable_master_table_mea_unit.master_table_mea_unit\n",
    "GROUP BY year, month, day\n",
    "ORDER BY year, month, day"
   ]
  },
  {
   "cell_type": "markdown",
   "metadata": {
    "application/vnd.databricks.v1+cell": {
     "cellMetadata": {},
     "inputWidgets": {},
     "nuid": "bf7a25dd-2963-44ac-abb2-2c9be69d456d",
     "showTitle": false,
     "title": ""
    }
   },
   "source": [
    "### Silver"
   ]
  },
  {
   "cell_type": "code",
   "execution_count": 0,
   "metadata": {
    "application/vnd.databricks.v1+cell": {
     "cellMetadata": {
      "byteLimit": 2048000,
      "rowLimit": 10000
     },
     "inputWidgets": {},
     "nuid": "c8055439-3578-48e9-bb46-fa9deef5ff7a",
     "showTitle": false,
     "title": ""
    }
   },
   "outputs": [],
   "source": [
    "%sql\n",
    "SELECT year, month, day, count(*)\n",
    "FROM brewdat_uc_saz_prod.slv_br_manual_mastertable_master_table_mea_unit.master_table_mea_unit\n",
    "GROUP BY year, month, day\n",
    "ORDER BY year, month, day"
   ]
  },
  {
   "cell_type": "markdown",
   "metadata": {
    "application/vnd.databricks.v1+cell": {
     "cellMetadata": {},
     "inputWidgets": {},
     "nuid": "0763b0e4-c144-496b-a7cd-dddc97a04acd",
     "showTitle": false,
     "title": ""
    }
   },
   "source": [
    "## master_table_mt_generic"
   ]
  },
  {
   "cell_type": "markdown",
   "metadata": {
    "application/vnd.databricks.v1+cell": {
     "cellMetadata": {},
     "inputWidgets": {},
     "nuid": "1d8bba58-a969-467c-a2e0-91ebbe901480",
     "showTitle": false,
     "title": ""
    }
   },
   "source": [
    "### Bronze"
   ]
  },
  {
   "cell_type": "code",
   "execution_count": 0,
   "metadata": {
    "application/vnd.databricks.v1+cell": {
     "cellMetadata": {
      "byteLimit": 2048000,
      "rowLimit": 10000
     },
     "inputWidgets": {},
     "nuid": "b4ac6fa3-033f-4b2f-8473-613e5f674d98",
     "showTitle": false,
     "title": ""
    }
   },
   "outputs": [],
   "source": [
    "%sql\n",
    "SELECT year, month, day, count(*)\n",
    "FROM brewdat_uc_saz_prod.brz_br_manual_mastertable_master_table_mt_generic.master_table_mt_generic\n",
    "GROUP BY year, month, day\n",
    "ORDER BY year, month, day"
   ]
  },
  {
   "cell_type": "markdown",
   "metadata": {
    "application/vnd.databricks.v1+cell": {
     "cellMetadata": {},
     "inputWidgets": {},
     "nuid": "f4092968-edc8-4af6-ac7f-4b2f714a4ebf",
     "showTitle": false,
     "title": ""
    }
   },
   "source": [
    "### Silver"
   ]
  },
  {
   "cell_type": "code",
   "execution_count": 0,
   "metadata": {
    "application/vnd.databricks.v1+cell": {
     "cellMetadata": {
      "byteLimit": 2048000,
      "rowLimit": 10000
     },
     "inputWidgets": {},
     "nuid": "fb56a1b6-bc92-4ddb-8622-b2a945c94c93",
     "showTitle": false,
     "title": ""
    }
   },
   "outputs": [],
   "source": [
    "%sql\n",
    "SELECT year, month, day, count(*)\n",
    "FROM brewdat_uc_saz_prod.slv_br_manual_mastertable_master_table_mt_generic.master_table_mt_generic\n",
    "GROUP BY year, month, day\n",
    "ORDER BY year, month, day"
   ]
  },
  {
   "cell_type": "markdown",
   "metadata": {
    "application/vnd.databricks.v1+cell": {
     "cellMetadata": {},
     "inputWidgets": {},
     "nuid": "23d2f410-47a9-47c9-b7e5-9cad3ac3b6ad",
     "showTitle": false,
     "title": ""
    }
   },
   "source": [
    "## master_table_multpack"
   ]
  },
  {
   "cell_type": "markdown",
   "metadata": {
    "application/vnd.databricks.v1+cell": {
     "cellMetadata": {},
     "inputWidgets": {},
     "nuid": "f30919a6-6bcb-44d9-8470-c75c76b4b04e",
     "showTitle": false,
     "title": ""
    }
   },
   "source": [
    "### Bronze"
   ]
  },
  {
   "cell_type": "code",
   "execution_count": 0,
   "metadata": {
    "application/vnd.databricks.v1+cell": {
     "cellMetadata": {
      "byteLimit": 2048000,
      "rowLimit": 10000
     },
     "inputWidgets": {},
     "nuid": "def2ceac-0b66-4c42-8e58-c2bc4c12f91b",
     "showTitle": false,
     "title": ""
    }
   },
   "outputs": [],
   "source": [
    "%sql\n",
    "SELECT year, month, day, count(*)\n",
    "FROM brewdat_uc_saz_prod.brz_br_manual_mastertable_master_table_multpack.master_table_multpack\n",
    "GROUP BY year, month, day\n",
    "ORDER BY year, month, day"
   ]
  },
  {
   "cell_type": "markdown",
   "metadata": {
    "application/vnd.databricks.v1+cell": {
     "cellMetadata": {},
     "inputWidgets": {},
     "nuid": "3a875c14-4b02-478e-b7f5-fe96247d7670",
     "showTitle": false,
     "title": ""
    }
   },
   "source": [
    "### Silver"
   ]
  },
  {
   "cell_type": "code",
   "execution_count": 0,
   "metadata": {
    "application/vnd.databricks.v1+cell": {
     "cellMetadata": {
      "byteLimit": 2048000,
      "rowLimit": 10000
     },
     "inputWidgets": {},
     "nuid": "93e59a13-892c-48a1-ab95-9d53f5643124",
     "showTitle": false,
     "title": ""
    }
   },
   "outputs": [],
   "source": [
    "%sql\n",
    "SELECT year, month, day, count(*)\n",
    "FROM brewdat_uc_saz_prod.slv_br_manual_mastertable_master_table_multpack.master_table_multpack\n",
    "GROUP BY year, month, day\n",
    "ORDER BY year, month, day"
   ]
  },
  {
   "cell_type": "markdown",
   "metadata": {
    "application/vnd.databricks.v1+cell": {
     "cellMetadata": {},
     "inputWidgets": {},
     "nuid": "9e24fbac-598c-4535-ace5-deab083b80f7",
     "showTitle": false,
     "title": ""
    }
   },
   "source": [
    "## master_table_pack_quantity"
   ]
  },
  {
   "cell_type": "markdown",
   "metadata": {
    "application/vnd.databricks.v1+cell": {
     "cellMetadata": {},
     "inputWidgets": {},
     "nuid": "65d191b9-5417-472d-9685-cc1bd15c8a78",
     "showTitle": false,
     "title": ""
    }
   },
   "source": [
    "### Bronze"
   ]
  },
  {
   "cell_type": "code",
   "execution_count": 0,
   "metadata": {
    "application/vnd.databricks.v1+cell": {
     "cellMetadata": {
      "byteLimit": 2048000,
      "rowLimit": 10000
     },
     "inputWidgets": {},
     "nuid": "176db0e7-0086-4b41-afb5-fa3fa89796e0",
     "showTitle": false,
     "title": ""
    }
   },
   "outputs": [],
   "source": [
    "%sql\n",
    "SELECT year, month, day, count(*)\n",
    "FROM brewdat_uc_saz_prod.brz_br_manual_mastertable_master_table_pack_quantity.master_table_pack_quantity\n",
    "GROUP BY year, month, day\n",
    "ORDER BY year, month, day"
   ]
  },
  {
   "cell_type": "markdown",
   "metadata": {
    "application/vnd.databricks.v1+cell": {
     "cellMetadata": {},
     "inputWidgets": {},
     "nuid": "a8927f31-6e4a-4034-ac7b-d25d0b80aca5",
     "showTitle": false,
     "title": ""
    }
   },
   "source": [
    "### Silver"
   ]
  },
  {
   "cell_type": "code",
   "execution_count": 0,
   "metadata": {
    "application/vnd.databricks.v1+cell": {
     "cellMetadata": {
      "byteLimit": 2048000,
      "rowLimit": 10000
     },
     "inputWidgets": {},
     "nuid": "5217c50e-9d2e-4976-8a17-3912b6054995",
     "showTitle": false,
     "title": ""
    }
   },
   "outputs": [],
   "source": [
    "%sql\n",
    "SELECT year, month, day, count(*)\n",
    "FROM brewdat_uc_saz_prod.slv_br_manual_mastertable_master_table_package_type.master_table_package_type\n",
    "GROUP BY year, month, day\n",
    "ORDER BY year, month, day"
   ]
  },
  {
   "cell_type": "markdown",
   "metadata": {
    "application/vnd.databricks.v1+cell": {
     "cellMetadata": {},
     "inputWidgets": {},
     "nuid": "cbcbe8ed-1339-4b2b-a697-fa126cc93ae4",
     "showTitle": false,
     "title": ""
    }
   },
   "source": [
    "## master_table_package_type"
   ]
  },
  {
   "cell_type": "markdown",
   "metadata": {
    "application/vnd.databricks.v1+cell": {
     "cellMetadata": {},
     "inputWidgets": {},
     "nuid": "88994319-a34d-4037-89fa-55c12c0b2499",
     "showTitle": false,
     "title": ""
    }
   },
   "source": [
    "### Bronze"
   ]
  },
  {
   "cell_type": "code",
   "execution_count": 0,
   "metadata": {
    "application/vnd.databricks.v1+cell": {
     "cellMetadata": {
      "byteLimit": 2048000,
      "rowLimit": 10000
     },
     "inputWidgets": {},
     "nuid": "8594903c-cdc3-4180-9fe8-3c1c46d3fe83",
     "showTitle": false,
     "title": ""
    }
   },
   "outputs": [],
   "source": [
    "%sql\n",
    "SELECT year, month, day, count(*)\n",
    "FROM brewdat_uc_saz_prod.brz_br_manual_mastertable_master_table_package_type.master_table_package_type\n",
    "GROUP BY year, month, day\n",
    "ORDER BY year, month, day"
   ]
  },
  {
   "cell_type": "markdown",
   "metadata": {
    "application/vnd.databricks.v1+cell": {
     "cellMetadata": {},
     "inputWidgets": {},
     "nuid": "d5a922cc-772c-40f6-bff2-361ea2ea7f02",
     "showTitle": false,
     "title": ""
    }
   },
   "source": [
    "### Silver"
   ]
  },
  {
   "cell_type": "code",
   "execution_count": 0,
   "metadata": {
    "application/vnd.databricks.v1+cell": {
     "cellMetadata": {
      "byteLimit": 2048000,
      "rowLimit": 10000
     },
     "inputWidgets": {},
     "nuid": "df165e29-2efd-48e4-89c4-8aa72b1e4a7c",
     "showTitle": false,
     "title": ""
    }
   },
   "outputs": [],
   "source": [
    "%sql\n",
    "SELECT year, month, day, count(*)\n",
    "FROM brewdat_uc_saz_prod.slv_br_manual_mastertable_master_table_package_type.master_table_package_type\n",
    "GROUP BY year, month, day\n",
    "ORDER BY year, month, day"
   ]
  },
  {
   "cell_type": "markdown",
   "metadata": {
    "application/vnd.databricks.v1+cell": {
     "cellMetadata": {},
     "inputWidgets": {},
     "nuid": "9701a55a-0ea8-4ef4-b9a3-f6ac6cc2ade5",
     "showTitle": false,
     "title": ""
    }
   },
   "source": [
    "## master_table_package_unit"
   ]
  },
  {
   "cell_type": "markdown",
   "metadata": {
    "application/vnd.databricks.v1+cell": {
     "cellMetadata": {},
     "inputWidgets": {},
     "nuid": "df4a494c-a501-433d-882e-a3e8c2c0b313",
     "showTitle": false,
     "title": ""
    }
   },
   "source": [
    "### Bronze"
   ]
  },
  {
   "cell_type": "code",
   "execution_count": 0,
   "metadata": {
    "application/vnd.databricks.v1+cell": {
     "cellMetadata": {
      "byteLimit": 2048000,
      "rowLimit": 10000
     },
     "inputWidgets": {},
     "nuid": "8182942b-acf9-4e83-8c6a-28fb95f8f362",
     "showTitle": false,
     "title": ""
    }
   },
   "outputs": [],
   "source": [
    "%sql\n",
    "SELECT year, month, day, count(*)\n",
    "FROM brewdat_uc_saz_prod.brz_br_manual_mastertable_master_table_package_unit.master_table_package_unit\n",
    "GROUP BY year, month, day\n",
    "ORDER BY year, month, day"
   ]
  },
  {
   "cell_type": "markdown",
   "metadata": {
    "application/vnd.databricks.v1+cell": {
     "cellMetadata": {},
     "inputWidgets": {},
     "nuid": "cc9d2853-48e9-49c4-bb76-1684ec3a313a",
     "showTitle": false,
     "title": ""
    }
   },
   "source": [
    "### Silver"
   ]
  },
  {
   "cell_type": "code",
   "execution_count": 0,
   "metadata": {
    "application/vnd.databricks.v1+cell": {
     "cellMetadata": {
      "byteLimit": 2048000,
      "rowLimit": 10000
     },
     "inputWidgets": {},
     "nuid": "b7fb2170-ac43-4a58-b175-8cac8edb8232",
     "showTitle": false,
     "title": ""
    }
   },
   "outputs": [],
   "source": [
    "%sql\n",
    "SELECT year, month, day, count(*)\n",
    "FROM brewdat_uc_saz_prod.slv_br_manual_mastertable_master_table_package_unit.master_table_package_unit\n",
    "GROUP BY year, month, day\n",
    "ORDER BY year, month, day"
   ]
  },
  {
   "cell_type": "markdown",
   "metadata": {
    "application/vnd.databricks.v1+cell": {
     "cellMetadata": {},
     "inputWidgets": {},
     "nuid": "05a31122-c533-4472-98a9-69f11c6d47c3",
     "showTitle": false,
     "title": ""
    }
   },
   "source": [
    "## master_table_returnable"
   ]
  },
  {
   "cell_type": "markdown",
   "metadata": {
    "application/vnd.databricks.v1+cell": {
     "cellMetadata": {},
     "inputWidgets": {},
     "nuid": "af4bdc41-f56b-4e0f-a62d-b0a895d75df8",
     "showTitle": false,
     "title": ""
    }
   },
   "source": [
    "### Bronze"
   ]
  },
  {
   "cell_type": "code",
   "execution_count": 0,
   "metadata": {
    "application/vnd.databricks.v1+cell": {
     "cellMetadata": {
      "byteLimit": 2048000,
      "rowLimit": 10000
     },
     "inputWidgets": {},
     "nuid": "334024dd-37fe-4514-ae25-cd944f52c5cf",
     "showTitle": false,
     "title": ""
    }
   },
   "outputs": [],
   "source": [
    "%sql\n",
    "SELECT year, month, day, count(*)\n",
    "FROM brewdat_uc_saz_prod.brz_br_manual_mastertable_master_table_returnable.master_table_returnable\n",
    "GROUP BY year, month, day\n",
    "ORDER BY year, month, day"
   ]
  },
  {
   "cell_type": "markdown",
   "metadata": {
    "application/vnd.databricks.v1+cell": {
     "cellMetadata": {},
     "inputWidgets": {},
     "nuid": "c00fdd4b-a58c-4bd1-894a-283eb0132f51",
     "showTitle": false,
     "title": ""
    }
   },
   "source": [
    "### Silver"
   ]
  },
  {
   "cell_type": "code",
   "execution_count": 0,
   "metadata": {
    "application/vnd.databricks.v1+cell": {
     "cellMetadata": {
      "byteLimit": 2048000,
      "rowLimit": 10000
     },
     "inputWidgets": {},
     "nuid": "31769c37-e54d-4469-8d28-d0d13ad278e1",
     "showTitle": false,
     "title": ""
    }
   },
   "outputs": [],
   "source": [
    "%sql\n",
    "SELECT year, month, day, count(*)\n",
    "FROM brewdat_uc_saz_prod.slv_br_manual_mastertable_master_table_returnable.master_table_returnable\n",
    "GROUP BY year, month, day\n",
    "ORDER BY year, month, day"
   ]
  },
  {
   "cell_type": "markdown",
   "metadata": {
    "application/vnd.databricks.v1+cell": {
     "cellMetadata": {},
     "inputWidgets": {},
     "nuid": "6ac15b33-66b5-4529-b33d-920056837c20",
     "showTitle": false,
     "title": ""
    }
   },
   "source": [
    "## master_table_volume_unit"
   ]
  },
  {
   "cell_type": "markdown",
   "metadata": {
    "application/vnd.databricks.v1+cell": {
     "cellMetadata": {},
     "inputWidgets": {},
     "nuid": "49ca91c5-3985-4c94-b161-ec9b41a7593b",
     "showTitle": false,
     "title": ""
    }
   },
   "source": [
    "### Bronze"
   ]
  },
  {
   "cell_type": "code",
   "execution_count": 0,
   "metadata": {
    "application/vnd.databricks.v1+cell": {
     "cellMetadata": {
      "byteLimit": 2048000,
      "rowLimit": 10000
     },
     "inputWidgets": {},
     "nuid": "03dbabfd-af68-4cce-971d-79f3d759c809",
     "showTitle": false,
     "title": ""
    }
   },
   "outputs": [],
   "source": [
    "%sql\n",
    "SELECT year, month, day, count(*)\n",
    "FROM brewdat_uc_saz_prod.brz_br_manual_mastertable_master_table_volume_unit.master_table_volume_unit\n",
    "GROUP BY year, month, day\n",
    "ORDER BY year, month, day"
   ]
  },
  {
   "cell_type": "markdown",
   "metadata": {
    "application/vnd.databricks.v1+cell": {
     "cellMetadata": {},
     "inputWidgets": {},
     "nuid": "8811fcaa-dfb2-4207-9411-c08e585b9c49",
     "showTitle": false,
     "title": ""
    }
   },
   "source": [
    "### Silver"
   ]
  },
  {
   "cell_type": "code",
   "execution_count": 0,
   "metadata": {
    "application/vnd.databricks.v1+cell": {
     "cellMetadata": {
      "byteLimit": 2048000,
      "rowLimit": 10000
     },
     "inputWidgets": {},
     "nuid": "88f3688e-cad0-4359-a298-cf54673bad69",
     "showTitle": false,
     "title": ""
    }
   },
   "outputs": [],
   "source": [
    "%sql\n",
    "SELECT year, month, day, count(*)\n",
    "FROM brewdat_uc_saz_prod.slv_br_manual_mastertable_master_table_volume_unit.master_table_volume_unit\n",
    "GROUP BY year, month, day\n",
    "ORDER BY year, month, day"
   ]
  },
  {
   "cell_type": "markdown",
   "metadata": {
    "application/vnd.databricks.v1+cell": {
     "cellMetadata": {},
     "inputWidgets": {},
     "nuid": "8442d717-6d46-4136-93c2-2b50267f4698",
     "showTitle": false,
     "title": ""
    }
   },
   "source": [
    "# NAP"
   ]
  },
  {
   "cell_type": "markdown",
   "metadata": {
    "application/vnd.databricks.v1+cell": {
     "cellMetadata": {},
     "inputWidgets": {},
     "nuid": "2b9f780d-02ec-4b43-81cb-d081c9ad585c",
     "showTitle": false,
     "title": ""
    }
   },
   "source": [
    "## Estoque"
   ]
  },
  {
   "cell_type": "markdown",
   "metadata": {
    "application/vnd.databricks.v1+cell": {
     "cellMetadata": {},
     "inputWidgets": {},
     "nuid": "c7b1f405-4b40-48fd-9013-7eeaef7166f3",
     "showTitle": false,
     "title": ""
    }
   },
   "source": [
    "### Bronze"
   ]
  },
  {
   "cell_type": "code",
   "execution_count": 0,
   "metadata": {
    "application/vnd.databricks.v1+cell": {
     "cellMetadata": {
      "byteLimit": 2048000,
      "rowLimit": 10000
     },
     "inputWidgets": {},
     "nuid": "2b4dded0-97a2-426a-9452-fe399a8822c2",
     "showTitle": false,
     "title": ""
    }
   },
   "outputs": [],
   "source": [
    "%sql\n",
    "SELECT year, month, day, count(*)\n",
    "FROM brewdat_uc_saz_prod.brz_br_nap_stock.stock\n",
    "GROUP BY year, month, day\n",
    "ORDER BY year, month, day"
   ]
  },
  {
   "cell_type": "markdown",
   "metadata": {
    "application/vnd.databricks.v1+cell": {
     "cellMetadata": {},
     "inputWidgets": {},
     "nuid": "cc701529-6a82-412d-bad7-efbf8cc7ab01",
     "showTitle": false,
     "title": ""
    }
   },
   "source": [
    "### Silver"
   ]
  },
  {
   "cell_type": "code",
   "execution_count": 0,
   "metadata": {
    "application/vnd.databricks.v1+cell": {
     "cellMetadata": {
      "byteLimit": 2048000,
      "rowLimit": 10000
     },
     "inputWidgets": {},
     "nuid": "e8f4a580-8aa8-413e-9bc1-222d8d44fed1",
     "showTitle": false,
     "title": ""
    }
   },
   "outputs": [],
   "source": [
    "%sql\n",
    "SELECT year, month, day, count(*)\n",
    "FROM brewdat_uc_saz_prod.slv_br_nap_stock.stock\n",
    "GROUP BY year, month, day\n",
    "ORDER BY year, month, day"
   ]
  },
  {
   "cell_type": "markdown",
   "metadata": {
    "application/vnd.databricks.v1+cell": {
     "cellMetadata": {},
     "inputWidgets": {},
     "nuid": "c61b4433-7eee-474f-8a2d-f0e3c44bfbce",
     "showTitle": false,
     "title": ""
    }
   },
   "source": [
    "## PDV"
   ]
  },
  {
   "cell_type": "markdown",
   "metadata": {
    "application/vnd.databricks.v1+cell": {
     "cellMetadata": {},
     "inputWidgets": {},
     "nuid": "66d35a09-59df-441c-90ad-25437069510b",
     "showTitle": false,
     "title": ""
    }
   },
   "source": [
    "### Bronze"
   ]
  },
  {
   "cell_type": "code",
   "execution_count": 0,
   "metadata": {
    "application/vnd.databricks.v1+cell": {
     "cellMetadata": {
      "byteLimit": 2048000,
      "rowLimit": 10000
     },
     "inputWidgets": {},
     "nuid": "8d0acd87-501b-497f-918e-a50fe390f8da",
     "showTitle": false,
     "title": ""
    }
   },
   "outputs": [],
   "source": [
    "%sql\n",
    "SELECT year, month, day, count(*)\n",
    "FROM brewdat_uc_saz_prod.brz_br_nap_pdv.pdv\n",
    "GROUP BY year, month, day\n",
    "ORDER BY year, month, day"
   ]
  },
  {
   "cell_type": "markdown",
   "metadata": {
    "application/vnd.databricks.v1+cell": {
     "cellMetadata": {},
     "inputWidgets": {},
     "nuid": "dbfc47c6-57b1-4526-9817-22a238538201",
     "showTitle": false,
     "title": ""
    }
   },
   "source": [
    "### Silver"
   ]
  },
  {
   "cell_type": "code",
   "execution_count": 0,
   "metadata": {
    "application/vnd.databricks.v1+cell": {
     "cellMetadata": {
      "byteLimit": 2048000,
      "rowLimit": 10000
     },
     "inputWidgets": {},
     "nuid": "a2a9fd9a-e5f2-4590-8f4c-27346bce4ac1",
     "showTitle": false,
     "title": ""
    }
   },
   "outputs": [],
   "source": [
    "%sql\n",
    "SELECT year, month, day, count(*)\n",
    "FROM brewdat_uc_saz_prod.slv_br_nap_pdv.pdv\n",
    "GROUP BY year, month, day\n",
    "ORDER BY year, month, day"
   ]
  },
  {
   "cell_type": "markdown",
   "metadata": {
    "application/vnd.databricks.v1+cell": {
     "cellMetadata": {},
     "inputWidgets": {},
     "nuid": "aecc8579-684d-4a64-afa1-4e2acf294892",
     "showTitle": false,
     "title": ""
    }
   },
   "source": [
    "## Produto"
   ]
  },
  {
   "cell_type": "markdown",
   "metadata": {
    "application/vnd.databricks.v1+cell": {
     "cellMetadata": {},
     "inputWidgets": {},
     "nuid": "27982f24-5654-4745-84b7-9fe8f31e3aa6",
     "showTitle": false,
     "title": ""
    }
   },
   "source": [
    "### Bronze"
   ]
  },
  {
   "cell_type": "code",
   "execution_count": 0,
   "metadata": {
    "application/vnd.databricks.v1+cell": {
     "cellMetadata": {
      "byteLimit": 2048000,
      "rowLimit": 10000
     },
     "inputWidgets": {},
     "nuid": "7309c472-1a8d-44b3-8cc2-3935950028ab",
     "showTitle": false,
     "title": ""
    }
   },
   "outputs": [],
   "source": [
    "%sql\n",
    "SELECT year, month, day, count(*)\n",
    "FROM brewdat_uc_saz_prod.brz_br_nap_product.product\n",
    "GROUP BY year, month, day \n",
    "ORDER BY year, month, day"
   ]
  },
  {
   "cell_type": "markdown",
   "metadata": {
    "application/vnd.databricks.v1+cell": {
     "cellMetadata": {},
     "inputWidgets": {},
     "nuid": "2082e13a-9da0-495d-9af1-12e4ff63e382",
     "showTitle": false,
     "title": ""
    }
   },
   "source": [
    "### Silver"
   ]
  },
  {
   "cell_type": "code",
   "execution_count": 0,
   "metadata": {
    "application/vnd.databricks.v1+cell": {
     "cellMetadata": {
      "byteLimit": 2048000,
      "rowLimit": 10000
     },
     "inputWidgets": {},
     "nuid": "b8d50d06-cf3d-4208-9d50-667af2cf7ade",
     "showTitle": false,
     "title": ""
    }
   },
   "outputs": [],
   "source": [
    "%sql\n",
    "SELECT year, month, day, count(*)\n",
    "FROM brewdat_uc_saz_prod.slv_br_nap_product.product\n",
    "GROUP BY year, month, day\n",
    "ORDER BY year, month, day"
   ]
  },
  {
   "cell_type": "markdown",
   "metadata": {
    "application/vnd.databricks.v1+cell": {
     "cellMetadata": {},
     "inputWidgets": {},
     "nuid": "c0113e72-2115-441c-8bac-9f1644d21405",
     "showTitle": false,
     "title": ""
    }
   },
   "source": [
    "## Vendas"
   ]
  },
  {
   "cell_type": "markdown",
   "metadata": {
    "application/vnd.databricks.v1+cell": {
     "cellMetadata": {},
     "inputWidgets": {},
     "nuid": "a8dcc1c8-be77-467d-a9c6-39a58e1d8f35",
     "showTitle": false,
     "title": ""
    }
   },
   "source": [
    "### Bronze"
   ]
  },
  {
   "cell_type": "code",
   "execution_count": 0,
   "metadata": {
    "application/vnd.databricks.v1+cell": {
     "cellMetadata": {
      "byteLimit": 2048000,
      "rowLimit": 10000
     },
     "inputWidgets": {},
     "nuid": "be27d1b9-6c42-447e-bf78-6af740bbf914",
     "showTitle": false,
     "title": ""
    }
   },
   "outputs": [],
   "source": [
    "%sql\n",
    "SELECT year, month, day, count(*)\n",
    "FROM brewdat_uc_saz_prod.brz_br_nap_sales.sales\n",
    "GROUP BY year, month, day\n",
    "ORDER BY year, month, day"
   ]
  },
  {
   "cell_type": "markdown",
   "metadata": {
    "application/vnd.databricks.v1+cell": {
     "cellMetadata": {},
     "inputWidgets": {},
     "nuid": "a26328cf-f902-43d2-b95c-06ee87d6d6d7",
     "showTitle": false,
     "title": ""
    }
   },
   "source": [
    "### Silver"
   ]
  },
  {
   "cell_type": "code",
   "execution_count": 0,
   "metadata": {
    "application/vnd.databricks.v1+cell": {
     "cellMetadata": {
      "byteLimit": 2048000,
      "rowLimit": 10000
     },
     "inputWidgets": {},
     "nuid": "b9c49673-fbe8-430e-b475-ff6b0fac300f",
     "showTitle": false,
     "title": ""
    }
   },
   "outputs": [],
   "source": [
    "%sql\n",
    "SELECT year, month, day, count(*)\n",
    "FROM brewdat_uc_saz_prod.slv_br_nap_sales.sales\n",
    "GROUP BY year, month, day\n",
    "ORDER BY year, month, day"
   ]
  },
  {
   "cell_type": "markdown",
   "metadata": {
    "application/vnd.databricks.v1+cell": {
     "cellMetadata": {},
     "inputWidgets": {},
     "nuid": "18047333-c0d4-40cc-a053-8cfbc050e5e0",
     "showTitle": false,
     "title": ""
    }
   },
   "source": []
  },
  {
   "cell_type": "markdown",
   "metadata": {
    "application/vnd.databricks.v1+cell": {
     "cellMetadata": {},
     "inputWidgets": {},
     "nuid": "4f02804f-cdb5-44a0-8efb-b971fb00552e",
     "showTitle": false,
     "title": ""
    }
   },
   "source": [
    "# Sivas"
   ]
  },
  {
   "cell_type": "markdown",
   "metadata": {
    "application/vnd.databricks.v1+cell": {
     "cellMetadata": {},
     "inputWidgets": {},
     "nuid": "6b4c4b7d-7431-4848-ad45-435c172e8a03",
     "showTitle": false,
     "title": ""
    }
   },
   "source": [
    "## Lojas Diretas"
   ]
  },
  {
   "cell_type": "markdown",
   "metadata": {
    "application/vnd.databricks.v1+cell": {
     "cellMetadata": {},
     "inputWidgets": {},
     "nuid": "f606c8a6-c943-48df-9da3-ed84b9dfb139",
     "showTitle": false,
     "title": ""
    }
   },
   "source": [
    "### Bronze"
   ]
  },
  {
   "cell_type": "code",
   "execution_count": 0,
   "metadata": {
    "application/vnd.databricks.v1+cell": {
     "cellMetadata": {
      "byteLimit": 2048000,
      "implicitDf": true,
      "rowLimit": 10000
     },
     "inputWidgets": {},
     "nuid": "c1ee4962-a9b5-468b-987c-c01fc11d7b7a",
     "showTitle": false,
     "title": ""
    }
   },
   "outputs": [],
   "source": [
    "%sql\n",
    "SELECT  year, month, day, count(*) \n",
    "FROM    brewdat_uc_saz_prod.brz_br_sivas_lojas_direta.lojas_direta\n",
    "GROUP BY year, month, day\n",
    "ORDER BY year, month, day"
   ]
  },
  {
   "cell_type": "markdown",
   "metadata": {
    "application/vnd.databricks.v1+cell": {
     "cellMetadata": {},
     "inputWidgets": {},
     "nuid": "00cdadfc-6dfe-4873-87e3-bed1b65b1cf7",
     "showTitle": false,
     "title": ""
    }
   },
   "source": [
    "###Silver"
   ]
  },
  {
   "cell_type": "code",
   "execution_count": 0,
   "metadata": {
    "application/vnd.databricks.v1+cell": {
     "cellMetadata": {
      "byteLimit": 2048000,
      "implicitDf": true,
      "rowLimit": 10000
     },
     "inputWidgets": {},
     "nuid": "121b8401-5d7f-4d46-988c-ba785e014d35",
     "showTitle": false,
     "title": ""
    }
   },
   "outputs": [],
   "source": [
    "%sql\n",
    "SELECT  year, month, day, count(*) \n",
    "FROM    brewdat_uc_saz_prod.slv_br_sivas_lojas_direta.lojas_direta\n",
    "GROUP BY year, month, day\n",
    "ORDER BY year, month, day"
   ]
  },
  {
   "cell_type": "code",
   "execution_count": 0,
   "metadata": {
    "application/vnd.databricks.v1+cell": {
     "cellMetadata": {
      "byteLimit": 2048000,
      "implicitDf": true,
      "rowLimit": 10000
     },
     "inputWidgets": {},
     "nuid": "2a9b648a-1c79-468d-bbaf-a907dd943a76",
     "showTitle": false,
     "title": ""
    }
   },
   "outputs": [],
   "source": [
    "%sql\n",
    "SELECT  *\n",
    "FROM    brewdat_uc_saz_prod.slv_br_sivas_lojas_direta.lojas_direta"
   ]
  },
  {
   "cell_type": "code",
   "execution_count": 0,
   "metadata": {
    "application/vnd.databricks.v1+cell": {
     "cellMetadata": {
      "byteLimit": 2048000,
      "implicitDf": true,
      "rowLimit": 10000
     },
     "inputWidgets": {},
     "nuid": "06a8bf21-3d7e-4dcd-9b5a-0340fd84aae6",
     "showTitle": false,
     "title": ""
    }
   },
   "outputs": [],
   "source": [
    "%sql\n",
    "DESCRIBE brewdat_uc_saz_prod.slv_br_sivas_lojas_direta.lojas_direta"
   ]
  },
  {
   "cell_type": "markdown",
   "metadata": {
    "application/vnd.databricks.v1+cell": {
     "cellMetadata": {},
     "inputWidgets": {},
     "nuid": "fb8bd024-3818-44fb-84b7-c591d8c6080d",
     "showTitle": false,
     "title": ""
    }
   },
   "source": [
    "## Configuracao Comprador"
   ]
  },
  {
   "cell_type": "markdown",
   "metadata": {
    "application/vnd.databricks.v1+cell": {
     "cellMetadata": {},
     "inputWidgets": {},
     "nuid": "e28a43a3-5a0e-4f9b-8d58-3c8de09ea55c",
     "showTitle": false,
     "title": ""
    }
   },
   "source": [
    "### Bronze"
   ]
  },
  {
   "cell_type": "code",
   "execution_count": 0,
   "metadata": {
    "application/vnd.databricks.v1+cell": {
     "cellMetadata": {
      "byteLimit": 2048000,
      "implicitDf": true,
      "rowLimit": 10000
     },
     "inputWidgets": {},
     "nuid": "6ab28b86-90cb-4c32-8be3-0fc48a6fc0e8",
     "showTitle": false,
     "title": ""
    }
   },
   "outputs": [],
   "source": [
    "%sql\n",
    "SELECT  year, month, day, count(*)\n",
    "FROM    brewdat_uc_saz_prod.brz_br_sivas_configuracao_comprador.configuracao_comprador\n",
    "GROUP BY year, month, day\n",
    "ORDER BY year, month, day"
   ]
  },
  {
   "cell_type": "markdown",
   "metadata": {
    "application/vnd.databricks.v1+cell": {
     "cellMetadata": {},
     "inputWidgets": {},
     "nuid": "51fe214b-ce7e-4d1a-9650-48abe41d1cd9",
     "showTitle": false,
     "title": ""
    }
   },
   "source": [
    "### Silver"
   ]
  },
  {
   "cell_type": "code",
   "execution_count": 0,
   "metadata": {
    "application/vnd.databricks.v1+cell": {
     "cellMetadata": {
      "byteLimit": 2048000,
      "implicitDf": true,
      "rowLimit": 10000
     },
     "inputWidgets": {},
     "nuid": "105549c5-43ca-402f-9eb5-c79fb411f36c",
     "showTitle": false,
     "title": ""
    }
   },
   "outputs": [],
   "source": [
    "%sql\n",
    "SELECT  year, month, day, count(*)\n",
    "FROM    brewdat_uc_saz_prod.slv_br_sivas_configuracao_comprador.configuracao_comprador\n",
    "GROUP BY year, month, day\n",
    "ORDER BY year, month, day"
   ]
  },
  {
   "cell_type": "code",
   "execution_count": 0,
   "metadata": {
    "application/vnd.databricks.v1+cell": {
     "cellMetadata": {
      "byteLimit": 2048000,
      "implicitDf": true,
      "rowLimit": 10000
     },
     "inputWidgets": {},
     "nuid": "f064d782-e65d-4bad-aae0-ef3db92a23b2",
     "showTitle": false,
     "title": ""
    }
   },
   "outputs": [],
   "source": [
    "%sql\n",
    "DESCRIBE brewdat_uc_saz_prod.slv_br_sivas_configuracao_comprador.configuracao_comprador"
   ]
  },
  {
   "cell_type": "markdown",
   "metadata": {
    "application/vnd.databricks.v1+cell": {
     "cellMetadata": {},
     "inputWidgets": {},
     "nuid": "b6231ffd-1e34-4598-bfeb-5acc9c47aa17",
     "showTitle": false,
     "title": ""
    }
   },
   "source": [
    "## Equipe As"
   ]
  },
  {
   "cell_type": "markdown",
   "metadata": {
    "application/vnd.databricks.v1+cell": {
     "cellMetadata": {},
     "inputWidgets": {},
     "nuid": "5273170d-f81b-485c-967d-454bb881e54a",
     "showTitle": false,
     "title": ""
    }
   },
   "source": [
    "###Bronze"
   ]
  },
  {
   "cell_type": "markdown",
   "metadata": {
    "application/vnd.databricks.v1+cell": {
     "cellMetadata": {},
     "inputWidgets": {},
     "nuid": "276ef8af-b889-4410-80c0-4d92c45d561d",
     "showTitle": false,
     "title": ""
    }
   },
   "source": [
    "### Silver"
   ]
  },
  {
   "cell_type": "code",
   "execution_count": 0,
   "metadata": {
    "application/vnd.databricks.v1+cell": {
     "cellMetadata": {
      "byteLimit": 2048000,
      "implicitDf": true,
      "rowLimit": 10000
     },
     "inputWidgets": {},
     "nuid": "126494b6-799d-4796-8ec5-dd705bc7f2a9",
     "showTitle": false,
     "title": ""
    }
   },
   "outputs": [],
   "source": [
    "%sql\n",
    "SELECT  year, month, day, count(*)\n",
    "FROM    brewdat_uc_saz_prod.slv_br_sivas_equipe_as.equipe_as\n",
    "GROUP BY year, month, day\n",
    "ORDER BY year, month, day"
   ]
  },
  {
   "cell_type": "markdown",
   "metadata": {
    "application/vnd.databricks.v1+cell": {
     "cellMetadata": {},
     "inputWidgets": {},
     "nuid": "b83e5bba-514a-4ef5-920d-b81c2f9f1b7c",
     "showTitle": false,
     "title": ""
    }
   },
   "source": [
    "## Cliente Loja"
   ]
  },
  {
   "cell_type": "markdown",
   "metadata": {
    "application/vnd.databricks.v1+cell": {
     "cellMetadata": {},
     "inputWidgets": {},
     "nuid": "ecae2276-f169-49bc-a930-eab2b2f6533b",
     "showTitle": false,
     "title": ""
    }
   },
   "source": [
    "### Bronze"
   ]
  },
  {
   "cell_type": "markdown",
   "metadata": {
    "application/vnd.databricks.v1+cell": {
     "cellMetadata": {},
     "inputWidgets": {},
     "nuid": "876b4dc6-4562-4a9f-895f-9e3bd3940e43",
     "showTitle": false,
     "title": ""
    }
   },
   "source": [
    "### Silver"
   ]
  },
  {
   "cell_type": "code",
   "execution_count": 0,
   "metadata": {
    "application/vnd.databricks.v1+cell": {
     "cellMetadata": {
      "byteLimit": 2048000,
      "implicitDf": true,
      "rowLimit": 10000
     },
     "inputWidgets": {},
     "nuid": "10bfdc91-ef11-4b43-80d4-3b55e65d83ef",
     "showTitle": false,
     "title": ""
    }
   },
   "outputs": [],
   "source": [
    "%sql\n",
    "SELECT  year, month, day, count(*)\n",
    "FROM    brewdat_uc_saz_prod.slv_br_sivas_cliente_loja.cliente_loja\n",
    "GROUP BY year, month, day\n",
    "ORDER BY year, month, day"
   ]
  },
  {
   "cell_type": "markdown",
   "metadata": {
    "application/vnd.databricks.v1+cell": {
     "cellMetadata": {},
     "inputWidgets": {},
     "nuid": "e3613552-409f-4034-b4af-fce12ce1f62b",
     "showTitle": false,
     "title": ""
    }
   },
   "source": [
    "## Cliente Equipe"
   ]
  },
  {
   "cell_type": "markdown",
   "metadata": {
    "application/vnd.databricks.v1+cell": {
     "cellMetadata": {},
     "inputWidgets": {},
     "nuid": "731d2654-2f43-4d37-b9af-b1665fc2ac9c",
     "showTitle": false,
     "title": ""
    }
   },
   "source": [
    "### Bronze"
   ]
  },
  {
   "cell_type": "code",
   "execution_count": 0,
   "metadata": {
    "application/vnd.databricks.v1+cell": {
     "cellMetadata": {
      "byteLimit": 2048000,
      "implicitDf": true,
      "rowLimit": 10000
     },
     "inputWidgets": {},
     "nuid": "c694a8cf-4b68-47b1-ae8e-b5f4483d3ce9",
     "showTitle": false,
     "title": ""
    }
   },
   "outputs": [],
   "source": [
    "%sql\n",
    "SELECT year, month, day, count(*)\n",
    "FROM brewdat_uc_saz_prod.slv_br_sivas\n",
    "GROUP BY year, month, day\n",
    "ORDER BY year, month, day"
   ]
  },
  {
   "cell_type": "markdown",
   "metadata": {
    "application/vnd.databricks.v1+cell": {
     "cellMetadata": {},
     "inputWidgets": {},
     "nuid": "2c0f684f-a59a-47d6-bcb2-abf2c3d6949c",
     "showTitle": false,
     "title": ""
    }
   },
   "source": [
    "### Silver"
   ]
  },
  {
   "cell_type": "markdown",
   "metadata": {
    "application/vnd.databricks.v1+cell": {
     "cellMetadata": {},
     "inputWidgets": {},
     "nuid": "95e4e320-48d6-43c1-a109-f4c85caa3475",
     "showTitle": false,
     "title": ""
    }
   },
   "source": [
    "# Atacadão\n"
   ]
  },
  {
   "cell_type": "markdown",
   "metadata": {
    "application/vnd.databricks.v1+cell": {
     "cellMetadata": {},
     "inputWidgets": {},
     "nuid": "6aa64248-62d6-41d8-bea6-4c7cc83ad2d4",
     "showTitle": false,
     "title": ""
    }
   },
   "source": [
    "## Sellout\n"
   ]
  },
  {
   "cell_type": "markdown",
   "metadata": {
    "application/vnd.databricks.v1+cell": {
     "cellMetadata": {},
     "inputWidgets": {},
     "nuid": "3c2ca3cc-51f7-44ee-8d65-1d421f1afb3e",
     "showTitle": false,
     "title": ""
    }
   },
   "source": [
    "### Bronze"
   ]
  },
  {
   "cell_type": "code",
   "execution_count": 0,
   "metadata": {
    "application/vnd.databricks.v1+cell": {
     "cellMetadata": {},
     "inputWidgets": {},
     "nuid": "9a0e525f-846e-4169-ab4b-1615dc4bcfca",
     "showTitle": false,
     "title": ""
    }
   },
   "outputs": [],
   "source": [
    "%sql\n",
    "SELECT count(*)\n",
    "FROM brewdat_uc_saz_prod.slv_br_atacadao_sales.sales"
   ]
  },
  {
   "cell_type": "markdown",
   "metadata": {
    "application/vnd.databricks.v1+cell": {
     "cellMetadata": {},
     "inputWidgets": {},
     "nuid": "a117b6ff-f45c-4fc2-8868-9db918a0c8d4",
     "showTitle": false,
     "title": ""
    }
   },
   "source": [
    "### Silver"
   ]
  },
  {
   "cell_type": "code",
   "execution_count": 0,
   "metadata": {
    "application/vnd.databricks.v1+cell": {
     "cellMetadata": {
      "byteLimit": 2048000,
      "implicitDf": true,
      "rowLimit": 10000
     },
     "inputWidgets": {},
     "nuid": "b2f2de56-7f35-4dad-a478-c162fb62cfbd",
     "showTitle": false,
     "title": ""
    }
   },
   "outputs": [],
   "source": [
    "%sql\n",
    "SELECT count(*)\n",
    "FROM brewdat_uc_saz_prod.slv_br_atacadao_sales.sales"
   ]
  },
  {
   "cell_type": "markdown",
   "metadata": {
    "application/vnd.databricks.v1+cell": {
     "cellMetadata": {},
     "inputWidgets": {},
     "nuid": "a76f8eb9-819a-4b22-abdb-8e11c3c01be7",
     "showTitle": false,
     "title": ""
    }
   },
   "source": [
    "# Trax"
   ]
  },
  {
   "cell_type": "markdown",
   "metadata": {
    "application/vnd.databricks.v1+cell": {
     "cellMetadata": {},
     "inputWidgets": {},
     "nuid": "3ac0eee7-ed28-446a-8030-54a296a76b2e",
     "showTitle": false,
     "title": ""
    }
   },
   "source": [
    "## Analysis Results"
   ]
  },
  {
   "cell_type": "markdown",
   "metadata": {
    "application/vnd.databricks.v1+cell": {
     "cellMetadata": {},
     "inputWidgets": {},
     "nuid": "82e6a747-adfe-4974-ae83-b53c06841cb9",
     "showTitle": false,
     "title": ""
    }
   },
   "source": [
    "### Bronze"
   ]
  },
  {
   "cell_type": "code",
   "execution_count": 0,
   "metadata": {
    "application/vnd.databricks.v1+cell": {
     "cellMetadata": {},
     "inputWidgets": {},
     "nuid": "a7b5030f-636f-40b1-b77c-96ce6f6e3bee",
     "showTitle": false,
     "title": ""
    }
   },
   "outputs": [],
   "source": []
  },
  {
   "cell_type": "markdown",
   "metadata": {
    "application/vnd.databricks.v1+cell": {
     "cellMetadata": {},
     "inputWidgets": {},
     "nuid": "6ceb926e-a762-46aa-8ca3-33843549927a",
     "showTitle": false,
     "title": ""
    }
   },
   "source": [
    "### Silver"
   ]
  },
  {
   "cell_type": "code",
   "execution_count": 0,
   "metadata": {
    "application/vnd.databricks.v1+cell": {
     "cellMetadata": {
      "byteLimit": 2048000,
      "implicitDf": true,
      "rowLimit": 10000
     },
     "inputWidgets": {},
     "nuid": "142566df-899b-4267-95ea-e8f1a82fc033",
     "showTitle": false,
     "title": ""
    }
   },
   "outputs": [],
   "source": [
    "%sql\n",
    "SELECT  year, month, day, count(*)\n",
    "FROM  brewdat_uc_saz_prod.brz_saz_sales_trax.br_analysis_results\n",
    "WHERE 1=1\n",
    "AND session_uid = 'be4e71b1-c8a4-4a1b-b8d4-3c41f4c4d830'\n",
    "GROUP BY year, month, day\n",
    "ORDER BY year, month, day\n"
   ]
  },
  {
   "cell_type": "code",
   "execution_count": 0,
   "metadata": {
    "application/vnd.databricks.v1+cell": {
     "cellMetadata": {
      "byteLimit": 2048000,
      "implicitDf": true,
      "rowLimit": 10000
     },
     "inputWidgets": {},
     "nuid": "5f971e12-a979-4505-8cf0-25767a09f8a0",
     "showTitle": false,
     "title": ""
    }
   },
   "outputs": [],
   "source": [
    "%sql\n",
    "SELECT  *\n",
    "FROM  brewdat_uc_saz_prod.brz_saz_sales_trax.br_analysis_results\n",
    "WHERE 1=1\n",
    "AND session_uid = 'be4e71b1-c8a4-4a1b-b8d4-3c41f4c4d830'"
   ]
  },
  {
   "cell_type": "code",
   "execution_count": 0,
   "metadata": {
    "application/vnd.databricks.v1+cell": {
     "cellMetadata": {},
     "inputWidgets": {},
     "nuid": "010f5bf5-e1bf-41f8-8453-9bec14c342bd",
     "showTitle": false,
     "title": ""
    }
   },
   "outputs": [],
   "source": []
  }
 ],
 "metadata": {
  "application/vnd.databricks.v1+notebook": {
   "dashboards": [],
   "environmentMetadata": null,
   "language": "python",
   "notebookMetadata": {
    "mostRecentlyExecutedCommandWithImplicitDF": {
     "commandId": 895115037020895,
     "dataframes": [
      "_sqldf"
     ]
    },
    "pythonIndentUnit": 4
   },
   "notebookName": "ingestion_analysis",
   "widgets": {}
  }
 },
 "nbformat": 4,
 "nbformat_minor": 0
}
