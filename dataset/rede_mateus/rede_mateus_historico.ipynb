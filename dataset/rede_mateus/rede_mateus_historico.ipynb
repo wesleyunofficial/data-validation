{
 "cells": [
  {
   "cell_type": "code",
   "execution_count": 0,
   "metadata": {
    "application/vnd.databricks.v1+cell": {
     "cellMetadata": {
      "byteLimit": 2048000,
      "rowLimit": 10000
     },
     "inputWidgets": {},
     "nuid": "671d0a1c-926d-470d-b563-325e97911798",
     "showTitle": false,
     "title": ""
    }
   },
   "outputs": [],
   "source": [
    "from os import path\n",
    "from pyspark.sql.functions import *"
   ]
  },
  {
   "cell_type": "markdown",
   "metadata": {
    "application/vnd.databricks.v1+cell": {
     "cellMetadata": {},
     "inputWidgets": {},
     "nuid": "ef9e3f9c-da9b-4edd-bef7-40fa2ce719ac",
     "showTitle": false,
     "title": ""
    }
   },
   "source": [
    "# PZ"
   ]
  },
  {
   "cell_type": "code",
   "execution_count": 0,
   "metadata": {
    "application/vnd.databricks.v1+cell": {
     "cellMetadata": {
      "byteLimit": 2048000,
      "rowLimit": 10000
     },
     "inputWidgets": {},
     "nuid": "f89b4af0-fc6f-4e0b-a181-937c96e5202c",
     "showTitle": true,
     "title": "Source Path"
    }
   },
   "outputs": [],
   "source": [
    "pz_path = \"/mnt/prelandingzone/Brazil/DirectSellout/RedeMateus\"\n",
    "\n",
    "dbutils.fs.ls(pz_path)"
   ]
  },
  {
   "cell_type": "code",
   "execution_count": 0,
   "metadata": {
    "application/vnd.databricks.v1+cell": {
     "cellMetadata": {
      "byteLimit": 2048000,
      "rowLimit": 10000
     },
     "inputWidgets": {},
     "nuid": "dae226d1-03e8-49e6-8776-2371a7843810",
     "showTitle": true,
     "title": "Read Data"
    }
   },
   "outputs": [],
   "source": [
    "rede_mateus_2021_pz_path = path.join(pz_path, \"2021**********\")\n",
    "rede_mateus_2022_pz_path = path.join(pz_path, \"2022**********\")\n",
    "rede_mateus_2023_pz_path = path.join(pz_path, \"2023**********\")\n",
    "rede_mateus_2024_pz_path = path.join(pz_path, \"2024**********\")"
   ]
  },
  {
   "cell_type": "code",
   "execution_count": 0,
   "metadata": {
    "application/vnd.databricks.v1+cell": {
     "cellMetadata": {
      "byteLimit": 2048000,
      "rowLimit": 10000
     },
     "inputWidgets": {},
     "nuid": "ef68dbb8-73b6-4d8c-b292-aad3198178a4",
     "showTitle": false,
     "title": ""
    }
   },
   "outputs": [],
   "source": [
    "df_pz_2021 = spark.read.format(\"avro\").option(\"mergeSchema\", \"true\").load(rede_mateus_2021_pz_path)\n",
    "df_pz_2022 = spark.read.format(\"avro\").option(\"mergeSchema\", \"true\").load(rede_mateus_2022_pz_path)\n",
    "df_pz_2023 = spark.read.format(\"avro\").option(\"mergeSchema\", \"true\").load(rede_mateus_2023_pz_path)\n",
    "df_pz_2024 = spark.read.format(\"avro\").option(\"mergeSchema\", \"true\").load(rede_mateus_2024_pz_path).where(year(col(\"DATA\")) == 2023)"
   ]
  },
  {
   "cell_type": "code",
   "execution_count": 0,
   "metadata": {
    "application/vnd.databricks.v1+cell": {
     "cellMetadata": {
      "byteLimit": 2048000,
      "rowLimit": 10000
     },
     "inputWidgets": {},
     "nuid": "2548e7ad-adcd-4ea8-b4b1-00c76bc7a4b9",
     "showTitle": true,
     "title": "Union All Dataframes"
    }
   },
   "outputs": [],
   "source": [
    "df_rede_mateus = df_pz_2021.union(df_pz_2022).union(df_pz_2023).union(df_pz_2024)"
   ]
  },
  {
   "cell_type": "code",
   "execution_count": 0,
   "metadata": {
    "application/vnd.databricks.v1+cell": {
     "cellMetadata": {
      "byteLimit": 2048000,
      "rowLimit": 10000
     },
     "inputWidgets": {},
     "nuid": "35cc8fa0-e607-4ec8-886f-ff047f88a3e7",
     "showTitle": true,
     "title": "Drop Column: filename"
    }
   },
   "outputs": [],
   "source": [
    "df_rede_mateus = df_rede_mateus.drop(col(\"filename\"))"
   ]
  },
  {
   "cell_type": "code",
   "execution_count": 0,
   "metadata": {
    "application/vnd.databricks.v1+cell": {
     "cellMetadata": {
      "byteLimit": 2048000,
      "rowLimit": 10000
     },
     "inputWidgets": {},
     "nuid": "7fd78fb0-00f6-4c20-9c06-a4860cf0d97c",
     "showTitle": true,
     "title": "Drop Duplicates"
    }
   },
   "outputs": [],
   "source": [
    "df_rede_mateus = df_rede_mateus.dropDuplicates()"
   ]
  },
  {
   "cell_type": "code",
   "execution_count": 0,
   "metadata": {
    "application/vnd.databricks.v1+cell": {
     "cellMetadata": {
      "byteLimit": 2048000,
      "rowLimit": 10000
     },
     "inputWidgets": {},
     "nuid": "85acb213-3be5-45c4-b806-034508b975f5",
     "showTitle": true,
     "title": "Add partition columns: year, month and day"
    }
   },
   "outputs": [],
   "source": [
    "df_rede_mateus = ( \n",
    "  df_rede_mateus\n",
    "    .withColumn(\"year\", year(col(\"DATA\")))\n",
    "    .withColumn(\"month\", month(col(\"DATA\")))\n",
    "    .withColumn(\"day\", when(dayofmonth(col(\"DATA\")) < 16, lit(1)).otherwise(lit(16)))\n",
    ")"
   ]
  },
  {
   "cell_type": "code",
   "execution_count": 0,
   "metadata": {
    "application/vnd.databricks.v1+cell": {
     "cellMetadata": {
      "byteLimit": 2048000,
      "rowLimit": 10000
     },
     "inputWidgets": {},
     "nuid": "f9949ae1-9175-48ee-87a4-54ce581a27c1",
     "showTitle": true,
     "title": "Print Schema"
    }
   },
   "outputs": [],
   "source": [
    "df_rede_mateus.printSchema()"
   ]
  },
  {
   "cell_type": "code",
   "execution_count": 0,
   "metadata": {
    "application/vnd.databricks.v1+cell": {
     "cellMetadata": {},
     "inputWidgets": {},
     "nuid": "3216d439-6561-4993-a757-d33d95eff8b4",
     "showTitle": true,
     "title": "Write Data in Datalake"
    }
   },
   "outputs": [],
   "source": [
    "# path = \"abfss://bronze@brewdatsazbrzp.dfs.core.windows.net/data/saz/br/sales/rede_mateus/sellout\"\n",
    "\n",
    "# (\n",
    "#   df_rede_mateus\n",
    "#     .write.format(\"delta\")\n",
    "#     .mode(\"overwrite\")\n",
    "#     .save(\"/mnt/delta/rede_mateus\")\n",
    "#     .partitionBy(\"year\", \"month\", \"day\")\n",
    "#     .option(\"partitionOverwriteMode\", \"dynamic\")\n",
    "\n",
    "# )"
   ]
  },
  {
   "cell_type": "markdown",
   "metadata": {
    "application/vnd.databricks.v1+cell": {
     "cellMetadata": {},
     "inputWidgets": {},
     "nuid": "f7aa9ac3-018b-466d-8c88-e191d1cbda30",
     "showTitle": false,
     "title": ""
    }
   },
   "source": [
    "# HZ"
   ]
  },
  {
   "cell_type": "code",
   "execution_count": 0,
   "metadata": {
    "application/vnd.databricks.v1+cell": {
     "cellMetadata": {
      "byteLimit": 2048000,
      "rowLimit": 10000
     },
     "inputWidgets": {},
     "nuid": "816884c9-5f79-419d-ad17-63fd31e76fdd",
     "showTitle": true,
     "title": "Source Path"
    }
   },
   "outputs": [],
   "source": [
    "historyzone_path = '/mnt/historyzone/Brazil/DirectSellout/RedeMateus'\n",
    "\n",
    "dbutils.fs.ls(historyzone_path)"
   ]
  },
  {
   "cell_type": "code",
   "execution_count": 0,
   "metadata": {
    "application/vnd.databricks.v1+cell": {
     "cellMetadata": {
      "byteLimit": 2048000,
      "rowLimit": 10000
     },
     "inputWidgets": {},
     "nuid": "677c7aa3-ad97-42b2-b9a5-6faa1ed24cc0",
     "showTitle": true,
     "title": "Read Data"
    }
   },
   "outputs": [],
   "source": [
    "df_hz_rede_mateus = spark.read.format(\"parquet\").load(historyzone_path).where(col(\"updatedDate\") == '')"
   ]
  },
  {
   "cell_type": "code",
   "execution_count": 0,
   "metadata": {
    "application/vnd.databricks.v1+cell": {
     "cellMetadata": {
      "byteLimit": 2048000,
      "rowLimit": 10000
     },
     "inputWidgets": {},
     "nuid": "ae13ca10-6c61-43b8-bc00-83259574bb82",
     "showTitle": false,
     "title": ""
    }
   },
   "outputs": [],
   "source": [
    "df_hz_rede_mateus = df_hz_rede_mateus.where(year(col(\"DATA\")) <= 2023)"
   ]
  },
  {
   "cell_type": "code",
   "execution_count": 0,
   "metadata": {
    "application/vnd.databricks.v1+cell": {
     "cellMetadata": {
      "byteLimit": 2048000,
      "rowLimit": 10000
     },
     "inputWidgets": {},
     "nuid": "9a4c3bd7-b091-4176-9dca-fe77d294a7fd",
     "showTitle": true,
     "title": "Drop Columns: filaname, createdDate, updatedDate e lastReceived"
    }
   },
   "outputs": [],
   "source": [
    "df_hz_rede_mateus = df_hz_rede_mateus.drop('filename', 'createdDate', 'updatedDate', 'lastReceived')"
   ]
  },
  {
   "cell_type": "code",
   "execution_count": 0,
   "metadata": {
    "application/vnd.databricks.v1+cell": {
     "cellMetadata": {
      "byteLimit": 2048000,
      "rowLimit": 10000
     },
     "inputWidgets": {},
     "nuid": "060817d1-e7d7-4440-9087-c45b3c013874",
     "showTitle": false,
     "title": ""
    }
   },
   "outputs": [],
   "source": [
    "df_hz_rede_mateus = ( \n",
    "  df_hz_rede_mateus\n",
    "    .withColumn(\"year\", year(col(\"DATA\")))\n",
    "    .withColumn(\"month\", month(col(\"DATA\")))\n",
    "    .withColumn(\"day\", when(dayofmonth(col(\"DATA\")) < 16, lit(1)).otherwise(lit(16)))\n",
    ")"
   ]
  },
  {
   "cell_type": "code",
   "execution_count": 0,
   "metadata": {
    "application/vnd.databricks.v1+cell": {
     "cellMetadata": {
      "byteLimit": 2048000,
      "rowLimit": 10000
     },
     "inputWidgets": {},
     "nuid": "1a8c76c8-b824-43ad-9055-9c5eb65d2616",
     "showTitle": false,
     "title": ""
    }
   },
   "outputs": [],
   "source": [
    "(\n",
    "  df_hz_rede_mateus\n",
    "    .groupBy(\"year\", \"month\", \"day\")\n",
    "    .agg(count(\"*\").alias(\"count_rows\"))\n",
    "    .sort(\"year\", \"month\", \"day\").display()\n",
    ")"
   ]
  },
  {
   "cell_type": "code",
   "execution_count": 0,
   "metadata": {
    "application/vnd.databricks.v1+cell": {
     "cellMetadata": {},
     "inputWidgets": {},
     "nuid": "78ec3dfa-6eee-4e71-bfcf-3cca8d726743",
     "showTitle": false,
     "title": ""
    }
   },
   "outputs": [],
   "source": [
    "# silver_path = \"abfss://silver@brewdatsazslvp.dfs.core.windows.net/data/saz/br/sales/rede_mateus/sellout\"\n",
    "\n",
    "# (\n",
    "#   df_hz_rede_mateus\n",
    "#     .write.mode(\"overwrite\")\n",
    "#     .partitionBy(\"year, month, day\")\n",
    "#     .option(\"partitionOverwriteMode\", \"dynamic\")\n",
    "#     .format(\"delta\").save(silver_path)\n",
    "# )\n"
   ]
  }
 ],
 "metadata": {
  "application/vnd.databricks.v1+notebook": {
   "dashboards": [],
   "environmentMetadata": null,
   "language": "python",
   "notebookMetadata": {
    "pythonIndentUnit": 2
   },
   "notebookName": "rede_mateus_historico",
   "widgets": {}
  }
 },
 "nbformat": 4,
 "nbformat_minor": 0
}
